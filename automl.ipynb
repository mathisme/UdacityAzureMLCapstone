{
 "cells": [
  {
   "cell_type": "markdown",
   "metadata": {},
   "source": [
    "# Automated ML"
   ]
  },
  {
   "cell_type": "code",
   "execution_count": 1,
   "metadata": {
    "gather": {
     "logged": 1598423888013
    },
    "jupyter": {
     "outputs_hidden": false,
     "source_hidden": false
    },
    "nteract": {
     "transient": {
      "deleting": false
     }
    }
   },
   "outputs": [],
   "source": [
    "import azureml.core\n",
    "from azureml.core.environment import Environment\n",
    "from azureml.core.conda_dependencies import CondaDependencies\n",
    "from azureml.core.experiment import Experiment\n",
    "from azureml.core.workspace import Workspace\n",
    "from azureml.core.dataset import Dataset\n",
    "from azureml.data.dataset_factory import TabularDatasetFactory\n",
    "from azureml.core.compute import AmlCompute\n",
    "from azureml.core.compute import ComputeTarget\n",
    "from azureml.core.compute_target import ComputeTargetException\n",
    "from azureml.core.model import Model\n",
    "from sklearn.model_selection import train_test_split\n",
    "from azureml.widgets import RunDetails\n",
    "from azureml.train.automl import AutoMLConfig\n",
    "from azureml.core.webservice import LocalWebservice\n",
    "from azureml.core.webservice import Webservice, AciWebservice\n",
    "from sklearn.metrics import confusion_matrix\n",
    "import numpy as np\n",
    "import pandas as pd\n",
    "import requests\n",
    "import json"
   ]
  },
  {
   "cell_type": "markdown",
   "metadata": {},
   "source": [
    "## Setup"
   ]
  },
  {
   "cell_type": "code",
   "execution_count": 2,
   "metadata": {
    "gather": {
     "logged": 1598423890461
    },
    "jupyter": {
     "outputs_hidden": false,
     "source_hidden": false
    },
    "nteract": {
     "transient": {
      "deleting": false
     }
    }
   },
   "outputs": [],
   "source": [
    "ws = Workspace.from_config()\n",
    "experiment_name = 'capstone'\n",
    "experiment=Experiment(ws, experiment_name)"
   ]
  },
  {
   "cell_type": "code",
   "execution_count": 3,
   "metadata": {},
   "outputs": [
    {
     "name": "stdout",
     "output_type": "stream",
     "text": [
      "Creating\n",
      "Succeeded...............................................................................................................\n",
      "AmlCompute wait for completion finished\n",
      "\n",
      "Wait timeout has been reached\n",
      "Current provisioning state of AmlCompute is \"Succeeded\" and current node count is \"0\"\n"
     ]
    }
   ],
   "source": [
    "amlcompute_cluster_name = \"capstonecompute\"\n",
    "\n",
    "try:\n",
    "    compute_target = ComputeTarget(workspace=ws, name=amlcompute_cluster_name)\n",
    "    print('Found existing cluster')\n",
    "except ComputeTargetException:\n",
    "    compute_config = AmlCompute.provisioning_configuration(vm_size='STANDARD_D2_V2', max_nodes=4)\n",
    "    compute_target = ComputeTarget.create(ws, amlcompute_cluster_name, compute_config)\n",
    "    compute_target.wait_for_completion(show_output=True, min_node_count = 1, timeout_in_minutes = 10)\n"
   ]
  },
  {
   "cell_type": "markdown",
   "metadata": {},
   "source": [
    "## Dataset\n",
    "\n",
    "### Overview\n",
    "The dataset used for the capstone project is the Heart Failure Clinical Records dataset that can be found [here](https://archive.ics.uci.edu/ml/datasets/Heart+failure+clinical+records) at the UCI Machine Learning Repository.  The dataset will be used for classification to help predict a death event."
   ]
  },
  {
   "cell_type": "code",
   "execution_count": 4,
   "metadata": {},
   "outputs": [],
   "source": [
    "# test to see if dataset is in store\n",
    "key = 'heartfailuredataset'\n",
    "if key in ws.datasets.keys(): \n",
    "    dataset = ws.datasets[key] \n",
    "    print('Found dataset')\n",
    "\n",
    "# if not, load the dataset, save it to the store\n",
    "else:\n",
    "    url = 'https://archive.ics.uci.edu/ml/machine-learning-databases/00519/heart_failure_clinical_records_dataset.csv'\n",
    "    dataset = Dataset.Tabular.from_delimited_files(url)\n",
    "    dataset = dataset.register(workspace=ws, name=key)\n",
    "    \n",
    "               \n"
   ]
  },
  {
   "cell_type": "code",
   "execution_count": 5,
   "metadata": {},
   "outputs": [
    {
     "data": {
      "text/html": [
       "<div>\n",
       "<style scoped>\n",
       "    .dataframe tbody tr th:only-of-type {\n",
       "        vertical-align: middle;\n",
       "    }\n",
       "\n",
       "    .dataframe tbody tr th {\n",
       "        vertical-align: top;\n",
       "    }\n",
       "\n",
       "    .dataframe thead th {\n",
       "        text-align: right;\n",
       "    }\n",
       "</style>\n",
       "<table border=\"1\" class=\"dataframe\">\n",
       "  <thead>\n",
       "    <tr style=\"text-align: right;\">\n",
       "      <th></th>\n",
       "      <th>age</th>\n",
       "      <th>anaemia</th>\n",
       "      <th>creatinine_phosphokinase</th>\n",
       "      <th>diabetes</th>\n",
       "      <th>ejection_fraction</th>\n",
       "      <th>high_blood_pressure</th>\n",
       "      <th>platelets</th>\n",
       "      <th>serum_creatinine</th>\n",
       "      <th>serum_sodium</th>\n",
       "      <th>sex</th>\n",
       "      <th>smoking</th>\n",
       "      <th>time</th>\n",
       "      <th>DEATH_EVENT</th>\n",
       "    </tr>\n",
       "  </thead>\n",
       "  <tbody>\n",
       "    <tr>\n",
       "      <th>0</th>\n",
       "      <td>75.0</td>\n",
       "      <td>0</td>\n",
       "      <td>582</td>\n",
       "      <td>0</td>\n",
       "      <td>20</td>\n",
       "      <td>1</td>\n",
       "      <td>265000.00</td>\n",
       "      <td>1.9</td>\n",
       "      <td>130</td>\n",
       "      <td>1</td>\n",
       "      <td>0</td>\n",
       "      <td>4</td>\n",
       "      <td>1</td>\n",
       "    </tr>\n",
       "    <tr>\n",
       "      <th>1</th>\n",
       "      <td>55.0</td>\n",
       "      <td>0</td>\n",
       "      <td>7861</td>\n",
       "      <td>0</td>\n",
       "      <td>38</td>\n",
       "      <td>0</td>\n",
       "      <td>263358.03</td>\n",
       "      <td>1.1</td>\n",
       "      <td>136</td>\n",
       "      <td>1</td>\n",
       "      <td>0</td>\n",
       "      <td>6</td>\n",
       "      <td>1</td>\n",
       "    </tr>\n",
       "    <tr>\n",
       "      <th>2</th>\n",
       "      <td>65.0</td>\n",
       "      <td>0</td>\n",
       "      <td>146</td>\n",
       "      <td>0</td>\n",
       "      <td>20</td>\n",
       "      <td>0</td>\n",
       "      <td>162000.00</td>\n",
       "      <td>1.3</td>\n",
       "      <td>129</td>\n",
       "      <td>1</td>\n",
       "      <td>1</td>\n",
       "      <td>7</td>\n",
       "      <td>1</td>\n",
       "    </tr>\n",
       "    <tr>\n",
       "      <th>3</th>\n",
       "      <td>50.0</td>\n",
       "      <td>1</td>\n",
       "      <td>111</td>\n",
       "      <td>0</td>\n",
       "      <td>20</td>\n",
       "      <td>0</td>\n",
       "      <td>210000.00</td>\n",
       "      <td>1.9</td>\n",
       "      <td>137</td>\n",
       "      <td>1</td>\n",
       "      <td>0</td>\n",
       "      <td>7</td>\n",
       "      <td>1</td>\n",
       "    </tr>\n",
       "    <tr>\n",
       "      <th>4</th>\n",
       "      <td>65.0</td>\n",
       "      <td>1</td>\n",
       "      <td>160</td>\n",
       "      <td>1</td>\n",
       "      <td>20</td>\n",
       "      <td>0</td>\n",
       "      <td>327000.00</td>\n",
       "      <td>2.7</td>\n",
       "      <td>116</td>\n",
       "      <td>0</td>\n",
       "      <td>0</td>\n",
       "      <td>8</td>\n",
       "      <td>1</td>\n",
       "    </tr>\n",
       "  </tbody>\n",
       "</table>\n",
       "</div>"
      ],
      "text/plain": [
       "    age  anaemia  creatinine_phosphokinase  diabetes  ejection_fraction  \\\n",
       "0  75.0        0                       582         0                 20   \n",
       "1  55.0        0                      7861         0                 38   \n",
       "2  65.0        0                       146         0                 20   \n",
       "3  50.0        1                       111         0                 20   \n",
       "4  65.0        1                       160         1                 20   \n",
       "\n",
       "   high_blood_pressure  platelets  serum_creatinine  serum_sodium  sex  \\\n",
       "0                    1  265000.00               1.9           130    1   \n",
       "1                    0  263358.03               1.1           136    1   \n",
       "2                    0  162000.00               1.3           129    1   \n",
       "3                    0  210000.00               1.9           137    1   \n",
       "4                    0  327000.00               2.7           116    0   \n",
       "\n",
       "   smoking  time  DEATH_EVENT  \n",
       "0        0     4            1  \n",
       "1        0     6            1  \n",
       "2        1     7            1  \n",
       "3        0     7            1  \n",
       "4        0     8            1  "
      ]
     },
     "execution_count": 5,
     "metadata": {},
     "output_type": "execute_result"
    }
   ],
   "source": [
    "dataset.to_pandas_dataframe().head()"
   ]
  },
  {
   "cell_type": "code",
   "execution_count": 6,
   "metadata": {},
   "outputs": [
    {
     "name": "stdout",
     "output_type": "stream",
     "text": [
      "Uploading an estimated of 1 files\n",
      "Uploading ./train.csv\n",
      "Uploaded ./train.csv, 1 files out of an estimated total of 1\n",
      "Uploaded 1 files\n"
     ]
    }
   ],
   "source": [
    "# split into data and test sets\n",
    "ds = dataset.to_pandas_dataframe()\n",
    "# use train test split\n",
    "train, test = train_test_split(ds, random_state=625, shuffle=True)\n",
    "\n",
    "# then write the train data to a file and load to datastore\n",
    "train.to_csv('train.csv', index=False)\n",
    "datastore = ws.get_default_datastore()\n",
    "datastore.upload_files(files = ['./train.csv'])\n",
    "\n",
    "# then read to tabular dataset for automl\n",
    "train = Dataset.Tabular.from_delimited_files(path = [(datastore,'train.csv')])\n"
   ]
  },
  {
   "cell_type": "markdown",
   "metadata": {},
   "source": [
    "## AutoML Configuration\n",
    "\n",
    "TODO: Explain why you chose the automl settings and cofiguration you used below."
   ]
  },
  {
   "cell_type": "code",
   "execution_count": 7,
   "metadata": {
    "gather": {
     "logged": 1598429217746
    },
    "jupyter": {
     "outputs_hidden": false,
     "source_hidden": false
    },
    "nteract": {
     "transient": {
      "deleting": false
     }
    }
   },
   "outputs": [],
   "source": [
    "automl_settings = {\n",
    "    \"experiment_timeout_minutes\":30,\n",
    "    \"enable_early_stopping\":True,    \n",
    "    \"primary_metric\":'accuracy',\n",
    "    \"n_cross_validations\":5,\n",
    "    \"iterations\":50,\n",
    "    \"max_concurrent_iterations\":4,\n",
    "}\n",
    "\n",
    "automl_config = AutoMLConfig(\n",
    "    compute_target=compute_target, \n",
    "    task='classification', \n",
    "    training_data=train,\n",
    "    label_column_name='DEATH_EVENT',\n",
    "    **automl_settings)"
   ]
  },
  {
   "cell_type": "code",
   "execution_count": 8,
   "metadata": {
    "gather": {
     "logged": 1598431107951
    },
    "jupyter": {
     "outputs_hidden": false,
     "source_hidden": false
    },
    "nteract": {
     "transient": {
      "deleting": false
     }
    }
   },
   "outputs": [
    {
     "name": "stdout",
     "output_type": "stream",
     "text": [
      "Running on remote.\n"
     ]
    }
   ],
   "source": [
    "run = experiment.submit(automl_config)"
   ]
  },
  {
   "cell_type": "markdown",
   "metadata": {},
   "source": [
    "## Run Details\n"
   ]
  },
  {
   "cell_type": "code",
   "execution_count": 9,
   "metadata": {
    "gather": {
     "logged": 1598431121770
    },
    "jupyter": {
     "outputs_hidden": false,
     "source_hidden": false
    },
    "nteract": {
     "transient": {
      "deleting": false
     }
    }
   },
   "outputs": [
    {
     "data": {
      "application/vnd.jupyter.widget-view+json": {
       "model_id": "4b28d7598e884e95bd1366f4f96f0aa6",
       "version_major": 2,
       "version_minor": 0
      },
      "text/plain": [
       "_AutoMLWidget(widget_settings={'childWidgetDisplay': 'popup', 'send_telemetry': False, 'log_level': 'INFO', 's…"
      ]
     },
     "metadata": {},
     "output_type": "display_data"
    },
    {
     "data": {
      "application/aml.mini.widget.v1": "{\"status\": \"Completed\", \"workbench_run_details_uri\": \"https://ml.azure.com/experiments/capstone/runs/AutoML_d3f92056-df67-4e62-a896-ed303c936f5e?wsid=/subscriptions/81cefad3-d2c9-4f77-a466-99a7f541c7bb/resourcegroups/aml-quickstarts-136002/workspaces/quick-starts-ws-136002\", \"run_id\": \"AutoML_d3f92056-df67-4e62-a896-ed303c936f5e\", \"run_properties\": {\"run_id\": \"AutoML_d3f92056-df67-4e62-a896-ed303c936f5e\", \"created_utc\": \"2021-01-25T15:09:25.214258Z\", \"properties\": {\"num_iterations\": \"50\", \"training_type\": \"TrainFull\", \"acquisition_function\": \"EI\", \"primary_metric\": \"accuracy\", \"train_split\": \"0\", \"acquisition_parameter\": \"0\", \"num_cross_validation\": \"5\", \"target\": \"capstonecompute\", \"AMLSettingsJsonString\": \"{\\\"path\\\":null,\\\"name\\\":\\\"capstone\\\",\\\"subscription_id\\\":\\\"81cefad3-d2c9-4f77-a466-99a7f541c7bb\\\",\\\"resource_group\\\":\\\"aml-quickstarts-136002\\\",\\\"workspace_name\\\":\\\"quick-starts-ws-136002\\\",\\\"region\\\":\\\"southcentralus\\\",\\\"compute_target\\\":\\\"capstonecompute\\\",\\\"spark_service\\\":null,\\\"azure_service\\\":\\\"remote\\\",\\\"many_models\\\":false,\\\"pipeline_fetch_max_batch_size\\\":1,\\\"iterations\\\":50,\\\"primary_metric\\\":\\\"accuracy\\\",\\\"task_type\\\":\\\"classification\\\",\\\"data_script\\\":null,\\\"validation_size\\\":0.0,\\\"n_cross_validations\\\":5,\\\"y_min\\\":null,\\\"y_max\\\":null,\\\"num_classes\\\":null,\\\"featurization\\\":\\\"auto\\\",\\\"_ignore_package_version_incompatibilities\\\":false,\\\"is_timeseries\\\":false,\\\"max_cores_per_iteration\\\":1,\\\"max_concurrent_iterations\\\":4,\\\"iteration_timeout_minutes\\\":null,\\\"mem_in_mb\\\":null,\\\"enforce_time_on_windows\\\":false,\\\"experiment_timeout_minutes\\\":30,\\\"experiment_exit_score\\\":null,\\\"whitelist_models\\\":null,\\\"blacklist_algos\\\":[\\\"TensorFlowLinearClassifier\\\",\\\"TensorFlowDNN\\\"],\\\"supported_models\\\":[\\\"RandomForest\\\",\\\"SGD\\\",\\\"KNN\\\",\\\"DecisionTree\\\",\\\"LightGBM\\\",\\\"TensorFlowLinearClassifier\\\",\\\"GradientBoosting\\\",\\\"MultinomialNaiveBayes\\\",\\\"TensorFlowDNN\\\",\\\"ExtremeRandomTrees\\\",\\\"LinearSVM\\\",\\\"AveragedPerceptronClassifier\\\",\\\"LogisticRegression\\\",\\\"XGBoostClassifier\\\",\\\"SVM\\\",\\\"BernoulliNaiveBayes\\\"],\\\"auto_blacklist\\\":true,\\\"blacklist_samples_reached\\\":false,\\\"exclude_nan_labels\\\":true,\\\"verbosity\\\":20,\\\"_debug_log\\\":\\\"azureml_automl.log\\\",\\\"show_warnings\\\":false,\\\"model_explainability\\\":true,\\\"service_url\\\":null,\\\"sdk_url\\\":null,\\\"sdk_packages\\\":null,\\\"enable_onnx_compatible_models\\\":false,\\\"enable_split_onnx_featurizer_estimator_models\\\":false,\\\"vm_type\\\":\\\"STANDARD_D2_V2\\\",\\\"telemetry_verbosity\\\":20,\\\"send_telemetry\\\":true,\\\"enable_dnn\\\":false,\\\"scenario\\\":\\\"SDK-1.13.0\\\",\\\"environment_label\\\":null,\\\"force_text_dnn\\\":false,\\\"enable_feature_sweeping\\\":true,\\\"enable_early_stopping\\\":true,\\\"early_stopping_n_iters\\\":10,\\\"metrics\\\":null,\\\"enable_ensembling\\\":true,\\\"enable_stack_ensembling\\\":true,\\\"ensemble_iterations\\\":15,\\\"enable_tf\\\":false,\\\"enable_subsampling\\\":false,\\\"subsample_seed\\\":null,\\\"enable_nimbusml\\\":false,\\\"enable_streaming\\\":false,\\\"force_streaming\\\":false,\\\"track_child_runs\\\":true,\\\"allowed_private_models\\\":[],\\\"label_column_name\\\":\\\"DEATH_EVENT\\\",\\\"weight_column_name\\\":null,\\\"cv_split_column_names\\\":null,\\\"enable_local_managed\\\":false,\\\"_local_managed_run_id\\\":null,\\\"cost_mode\\\":1,\\\"lag_length\\\":0,\\\"metric_operation\\\":\\\"maximize\\\",\\\"preprocess\\\":true}\", \"DataPrepJsonString\": \"{\\\\\\\"training_data\\\\\\\": \\\\\\\"{\\\\\\\\\\\\\\\"blocks\\\\\\\\\\\\\\\": [{\\\\\\\\\\\\\\\"id\\\\\\\\\\\\\\\": \\\\\\\\\\\\\\\"633b3bc0-95e7-4e63-8add-76bc63107432\\\\\\\\\\\\\\\", \\\\\\\\\\\\\\\"type\\\\\\\\\\\\\\\": \\\\\\\\\\\\\\\"Microsoft.DPrep.GetDatastoreFilesBlock\\\\\\\\\\\\\\\", \\\\\\\\\\\\\\\"arguments\\\\\\\\\\\\\\\": {\\\\\\\\\\\\\\\"datastores\\\\\\\\\\\\\\\": [{\\\\\\\\\\\\\\\"datastoreName\\\\\\\\\\\\\\\": \\\\\\\\\\\\\\\"workspaceblobstore\\\\\\\\\\\\\\\", \\\\\\\\\\\\\\\"path\\\\\\\\\\\\\\\": \\\\\\\\\\\\\\\"train.csv\\\\\\\\\\\\\\\", \\\\\\\\\\\\\\\"resourceGroup\\\\\\\\\\\\\\\": \\\\\\\\\\\\\\\"aml-quickstarts-136002\\\\\\\\\\\\\\\", \\\\\\\\\\\\\\\"subscription\\\\\\\\\\\\\\\": \\\\\\\\\\\\\\\"81cefad3-d2c9-4f77-a466-99a7f541c7bb\\\\\\\\\\\\\\\", \\\\\\\\\\\\\\\"workspaceName\\\\\\\\\\\\\\\": \\\\\\\\\\\\\\\"quick-starts-ws-136002\\\\\\\\\\\\\\\"}]}, \\\\\\\\\\\\\\\"localData\\\\\\\\\\\\\\\": {}, \\\\\\\\\\\\\\\"isEnabled\\\\\\\\\\\\\\\": true, \\\\\\\\\\\\\\\"name\\\\\\\\\\\\\\\": null, \\\\\\\\\\\\\\\"annotation\\\\\\\\\\\\\\\": null}, {\\\\\\\\\\\\\\\"id\\\\\\\\\\\\\\\": \\\\\\\\\\\\\\\"c3d1077d-d954-41ce-8665-22a9d7738aaa\\\\\\\\\\\\\\\", \\\\\\\\\\\\\\\"type\\\\\\\\\\\\\\\": \\\\\\\\\\\\\\\"Microsoft.DPrep.ParseDelimitedBlock\\\\\\\\\\\\\\\", \\\\\\\\\\\\\\\"arguments\\\\\\\\\\\\\\\": {\\\\\\\\\\\\\\\"columnHeadersMode\\\\\\\\\\\\\\\": 3, \\\\\\\\\\\\\\\"fileEncoding\\\\\\\\\\\\\\\": 0, \\\\\\\\\\\\\\\"handleQuotedLineBreaks\\\\\\\\\\\\\\\": false, \\\\\\\\\\\\\\\"preview\\\\\\\\\\\\\\\": false, \\\\\\\\\\\\\\\"separator\\\\\\\\\\\\\\\": \\\\\\\\\\\\\\\",\\\\\\\\\\\\\\\", \\\\\\\\\\\\\\\"skipRows\\\\\\\\\\\\\\\": 0, \\\\\\\\\\\\\\\"skipRowsMode\\\\\\\\\\\\\\\": 0}, \\\\\\\\\\\\\\\"localData\\\\\\\\\\\\\\\": {}, \\\\\\\\\\\\\\\"isEnabled\\\\\\\\\\\\\\\": true, \\\\\\\\\\\\\\\"name\\\\\\\\\\\\\\\": null, \\\\\\\\\\\\\\\"annotation\\\\\\\\\\\\\\\": null}, {\\\\\\\\\\\\\\\"id\\\\\\\\\\\\\\\": \\\\\\\\\\\\\\\"45e72739-d097-422f-91a1-b7d2356e6b86\\\\\\\\\\\\\\\", \\\\\\\\\\\\\\\"type\\\\\\\\\\\\\\\": \\\\\\\\\\\\\\\"Microsoft.DPrep.DropColumnsBlock\\\\\\\\\\\\\\\", \\\\\\\\\\\\\\\"arguments\\\\\\\\\\\\\\\": {\\\\\\\\\\\\\\\"columns\\\\\\\\\\\\\\\": {\\\\\\\\\\\\\\\"type\\\\\\\\\\\\\\\": 0, \\\\\\\\\\\\\\\"details\\\\\\\\\\\\\\\": {\\\\\\\\\\\\\\\"selectedColumns\\\\\\\\\\\\\\\": [\\\\\\\\\\\\\\\"Path\\\\\\\\\\\\\\\"]}}}, \\\\\\\\\\\\\\\"localData\\\\\\\\\\\\\\\": {}, \\\\\\\\\\\\\\\"isEnabled\\\\\\\\\\\\\\\": true, \\\\\\\\\\\\\\\"name\\\\\\\\\\\\\\\": null, \\\\\\\\\\\\\\\"annotation\\\\\\\\\\\\\\\": null}, {\\\\\\\\\\\\\\\"id\\\\\\\\\\\\\\\": \\\\\\\\\\\\\\\"fbb46912-bb49-4ebf-a965-ab58eb801242\\\\\\\\\\\\\\\", \\\\\\\\\\\\\\\"type\\\\\\\\\\\\\\\": \\\\\\\\\\\\\\\"Microsoft.DPrep.SetColumnTypesBlock\\\\\\\\\\\\\\\", \\\\\\\\\\\\\\\"arguments\\\\\\\\\\\\\\\": {\\\\\\\\\\\\\\\"columnConversion\\\\\\\\\\\\\\\": [{\\\\\\\\\\\\\\\"column\\\\\\\\\\\\\\\": {\\\\\\\\\\\\\\\"type\\\\\\\\\\\\\\\": 2, \\\\\\\\\\\\\\\"details\\\\\\\\\\\\\\\": {\\\\\\\\\\\\\\\"selectedColumn\\\\\\\\\\\\\\\": \\\\\\\\\\\\\\\"age\\\\\\\\\\\\\\\"}}, \\\\\\\\\\\\\\\"typeProperty\\\\\\\\\\\\\\\": 3}, {\\\\\\\\\\\\\\\"column\\\\\\\\\\\\\\\": {\\\\\\\\\\\\\\\"type\\\\\\\\\\\\\\\": 2, \\\\\\\\\\\\\\\"details\\\\\\\\\\\\\\\": {\\\\\\\\\\\\\\\"selectedColumn\\\\\\\\\\\\\\\": \\\\\\\\\\\\\\\"anaemia\\\\\\\\\\\\\\\"}}, \\\\\\\\\\\\\\\"typeProperty\\\\\\\\\\\\\\\": 2}, {\\\\\\\\\\\\\\\"column\\\\\\\\\\\\\\\": {\\\\\\\\\\\\\\\"type\\\\\\\\\\\\\\\": 2, \\\\\\\\\\\\\\\"details\\\\\\\\\\\\\\\": {\\\\\\\\\\\\\\\"selectedColumn\\\\\\\\\\\\\\\": \\\\\\\\\\\\\\\"creatinine_phosphokinase\\\\\\\\\\\\\\\"}}, \\\\\\\\\\\\\\\"typeProperty\\\\\\\\\\\\\\\": 2}, {\\\\\\\\\\\\\\\"column\\\\\\\\\\\\\\\": {\\\\\\\\\\\\\\\"type\\\\\\\\\\\\\\\": 2, \\\\\\\\\\\\\\\"details\\\\\\\\\\\\\\\": {\\\\\\\\\\\\\\\"selectedColumn\\\\\\\\\\\\\\\": \\\\\\\\\\\\\\\"diabetes\\\\\\\\\\\\\\\"}}, \\\\\\\\\\\\\\\"typeProperty\\\\\\\\\\\\\\\": 2}, {\\\\\\\\\\\\\\\"column\\\\\\\\\\\\\\\": {\\\\\\\\\\\\\\\"type\\\\\\\\\\\\\\\": 2, \\\\\\\\\\\\\\\"details\\\\\\\\\\\\\\\": {\\\\\\\\\\\\\\\"selectedColumn\\\\\\\\\\\\\\\": \\\\\\\\\\\\\\\"ejection_fraction\\\\\\\\\\\\\\\"}}, \\\\\\\\\\\\\\\"typeProperty\\\\\\\\\\\\\\\": 2}, {\\\\\\\\\\\\\\\"column\\\\\\\\\\\\\\\": {\\\\\\\\\\\\\\\"type\\\\\\\\\\\\\\\": 2, \\\\\\\\\\\\\\\"details\\\\\\\\\\\\\\\": {\\\\\\\\\\\\\\\"selectedColumn\\\\\\\\\\\\\\\": \\\\\\\\\\\\\\\"high_blood_pressure\\\\\\\\\\\\\\\"}}, \\\\\\\\\\\\\\\"typeProperty\\\\\\\\\\\\\\\": 2}, {\\\\\\\\\\\\\\\"column\\\\\\\\\\\\\\\": {\\\\\\\\\\\\\\\"type\\\\\\\\\\\\\\\": 2, \\\\\\\\\\\\\\\"details\\\\\\\\\\\\\\\": {\\\\\\\\\\\\\\\"selectedColumn\\\\\\\\\\\\\\\": \\\\\\\\\\\\\\\"platelets\\\\\\\\\\\\\\\"}}, \\\\\\\\\\\\\\\"typeProperty\\\\\\\\\\\\\\\": 3}, {\\\\\\\\\\\\\\\"column\\\\\\\\\\\\\\\": {\\\\\\\\\\\\\\\"type\\\\\\\\\\\\\\\": 2, \\\\\\\\\\\\\\\"details\\\\\\\\\\\\\\\": {\\\\\\\\\\\\\\\"selectedColumn\\\\\\\\\\\\\\\": \\\\\\\\\\\\\\\"serum_creatinine\\\\\\\\\\\\\\\"}}, \\\\\\\\\\\\\\\"typeProperty\\\\\\\\\\\\\\\": 3}, {\\\\\\\\\\\\\\\"column\\\\\\\\\\\\\\\": {\\\\\\\\\\\\\\\"type\\\\\\\\\\\\\\\": 2, \\\\\\\\\\\\\\\"details\\\\\\\\\\\\\\\": {\\\\\\\\\\\\\\\"selectedColumn\\\\\\\\\\\\\\\": \\\\\\\\\\\\\\\"serum_sodium\\\\\\\\\\\\\\\"}}, \\\\\\\\\\\\\\\"typeProperty\\\\\\\\\\\\\\\": 2}, {\\\\\\\\\\\\\\\"column\\\\\\\\\\\\\\\": {\\\\\\\\\\\\\\\"type\\\\\\\\\\\\\\\": 2, \\\\\\\\\\\\\\\"details\\\\\\\\\\\\\\\": {\\\\\\\\\\\\\\\"selectedColumn\\\\\\\\\\\\\\\": \\\\\\\\\\\\\\\"sex\\\\\\\\\\\\\\\"}}, \\\\\\\\\\\\\\\"typeProperty\\\\\\\\\\\\\\\": 2}, {\\\\\\\\\\\\\\\"column\\\\\\\\\\\\\\\": {\\\\\\\\\\\\\\\"type\\\\\\\\\\\\\\\": 2, \\\\\\\\\\\\\\\"details\\\\\\\\\\\\\\\": {\\\\\\\\\\\\\\\"selectedColumn\\\\\\\\\\\\\\\": \\\\\\\\\\\\\\\"smoking\\\\\\\\\\\\\\\"}}, \\\\\\\\\\\\\\\"typeProperty\\\\\\\\\\\\\\\": 2}, {\\\\\\\\\\\\\\\"column\\\\\\\\\\\\\\\": {\\\\\\\\\\\\\\\"type\\\\\\\\\\\\\\\": 2, \\\\\\\\\\\\\\\"details\\\\\\\\\\\\\\\": {\\\\\\\\\\\\\\\"selectedColumn\\\\\\\\\\\\\\\": \\\\\\\\\\\\\\\"time\\\\\\\\\\\\\\\"}}, \\\\\\\\\\\\\\\"typeProperty\\\\\\\\\\\\\\\": 2}, {\\\\\\\\\\\\\\\"column\\\\\\\\\\\\\\\": {\\\\\\\\\\\\\\\"type\\\\\\\\\\\\\\\": 2, \\\\\\\\\\\\\\\"details\\\\\\\\\\\\\\\": {\\\\\\\\\\\\\\\"selectedColumn\\\\\\\\\\\\\\\": \\\\\\\\\\\\\\\"DEATH_EVENT\\\\\\\\\\\\\\\"}}, \\\\\\\\\\\\\\\"typeProperty\\\\\\\\\\\\\\\": 2}]}, \\\\\\\\\\\\\\\"localData\\\\\\\\\\\\\\\": {}, \\\\\\\\\\\\\\\"isEnabled\\\\\\\\\\\\\\\": true, \\\\\\\\\\\\\\\"name\\\\\\\\\\\\\\\": null, \\\\\\\\\\\\\\\"annotation\\\\\\\\\\\\\\\": null}], \\\\\\\\\\\\\\\"inspectors\\\\\\\\\\\\\\\": [], \\\\\\\\\\\\\\\"meta\\\\\\\\\\\\\\\": {\\\\\\\\\\\\\\\"savedDatasetId\\\\\\\\\\\\\\\": \\\\\\\\\\\\\\\"f9af2579-7bd8-472c-b9f6-d648f418ed18\\\\\\\\\\\\\\\", \\\\\\\\\\\\\\\"datasetType\\\\\\\\\\\\\\\": \\\\\\\\\\\\\\\"tabular\\\\\\\\\\\\\\\", \\\\\\\\\\\\\\\"subscriptionId\\\\\\\\\\\\\\\": \\\\\\\\\\\\\\\"81cefad3-d2c9-4f77-a466-99a7f541c7bb\\\\\\\\\\\\\\\", \\\\\\\\\\\\\\\"workspaceId\\\\\\\\\\\\\\\": \\\\\\\\\\\\\\\"821f0efb-0c60-40fe-8806-3ed04f475f7c\\\\\\\\\\\\\\\", \\\\\\\\\\\\\\\"workspaceLocation\\\\\\\\\\\\\\\": \\\\\\\\\\\\\\\"southcentralus\\\\\\\\\\\\\\\"}}\\\\\\\", \\\\\\\"activities\\\\\\\": 0}\", \"EnableSubsampling\": \"False\", \"runTemplate\": \"AutoML\", \"azureml.runsource\": \"automl\", \"display_task_type\": \"classification\", \"dependencies_versions\": \"{\\\"azureml-widgets\\\": \\\"1.19.0\\\", \\\"azureml-train\\\": \\\"1.19.0\\\", \\\"azureml-train-restclients-hyperdrive\\\": \\\"1.19.0\\\", \\\"azureml-train-core\\\": \\\"1.19.0\\\", \\\"azureml-train-automl\\\": \\\"1.19.0\\\", \\\"azureml-train-automl-runtime\\\": \\\"1.19.0\\\", \\\"azureml-train-automl-client\\\": \\\"1.19.0\\\", \\\"azureml-tensorboard\\\": \\\"1.19.0\\\", \\\"azureml-telemetry\\\": \\\"1.19.0\\\", \\\"azureml-sdk\\\": \\\"1.19.0\\\", \\\"azureml-samples\\\": \\\"0+unknown\\\", \\\"azureml-pipeline\\\": \\\"1.19.0\\\", \\\"azureml-pipeline-steps\\\": \\\"1.19.0\\\", \\\"azureml-pipeline-core\\\": \\\"1.19.0\\\", \\\"azureml-opendatasets\\\": \\\"1.19.0\\\", \\\"azureml-model-management-sdk\\\": \\\"1.0.1b6.post1\\\", \\\"azureml-mlflow\\\": \\\"1.19.0\\\", \\\"azureml-interpret\\\": \\\"1.19.0\\\", \\\"azureml-explain-model\\\": \\\"1.19.0\\\", \\\"azureml-defaults\\\": \\\"1.19.0\\\", \\\"azureml-dataset-runtime\\\": \\\"1.19.0.post1\\\", \\\"azureml-dataprep\\\": \\\"2.6.1\\\", \\\"azureml-dataprep-rslex\\\": \\\"1.4.0\\\", \\\"azureml-dataprep-native\\\": \\\"26.0.0\\\", \\\"azureml-datadrift\\\": \\\"1.19.0\\\", \\\"azureml-core\\\": \\\"1.19.0\\\", \\\"azureml-contrib-services\\\": \\\"1.19.0\\\", \\\"azureml-contrib-server\\\": \\\"1.19.0\\\", \\\"azureml-contrib-reinforcementlearning\\\": \\\"1.19.0\\\", \\\"azureml-contrib-pipeline-steps\\\": \\\"1.19.0\\\", \\\"azureml-contrib-notebook\\\": \\\"1.19.0\\\", \\\"azureml-contrib-interpret\\\": \\\"1.19.0\\\", \\\"azureml-contrib-gbdt\\\": \\\"1.19.0\\\", \\\"azureml-contrib-fairness\\\": \\\"1.19.0\\\", \\\"azureml-contrib-dataset\\\": \\\"1.19.0\\\", \\\"azureml-cli-common\\\": \\\"1.19.0\\\", \\\"azureml-automl-runtime\\\": \\\"1.19.0\\\", \\\"azureml-automl-core\\\": \\\"1.19.0\\\", \\\"azureml-accel-models\\\": \\\"1.19.0\\\"}\", \"_aml_system_scenario_identification\": \"Remote.Parent\", \"ClientType\": \"SDK\", \"environment_cpu_name\": \"AzureML-AutoML\", \"environment_cpu_label\": \"prod\", \"environment_gpu_name\": \"AzureML-AutoML-GPU\", \"environment_gpu_label\": \"prod\", \"root_attribution\": \"automl\", \"attribution\": \"AutoML\", \"Orchestrator\": \"AutoML\", \"CancelUri\": \"https://southcentralus.experiments.azureml.net/jasmine/v1.0/subscriptions/81cefad3-d2c9-4f77-a466-99a7f541c7bb/resourceGroups/aml-quickstarts-136002/providers/Microsoft.MachineLearningServices/workspaces/quick-starts-ws-136002/experimentids/3ad785d5-cbbf-4efa-b467-2d5e7f84d9a8/cancel/AutoML_d3f92056-df67-4e62-a896-ed303c936f5e\", \"ClientSdkVersion\": \"1.20.0\", \"snapshotId\": \"00000000-0000-0000-0000-000000000000\", \"SetupRunId\": \"AutoML_d3f92056-df67-4e62-a896-ed303c936f5e_setup\", \"SetupRunContainerId\": \"dcid.AutoML_d3f92056-df67-4e62-a896-ed303c936f5e_setup\", \"FeaturizationRunJsonPath\": \"featurizer_container.json\", \"FeaturizationRunId\": \"AutoML_d3f92056-df67-4e62-a896-ed303c936f5e_featurize\", \"ProblemInfoJsonString\": \"{\\\"dataset_num_categorical\\\": 0, \\\"is_sparse\\\": false, \\\"subsampling\\\": false, \\\"dataset_classes\\\": 2, \\\"dataset_features\\\": 12, \\\"dataset_samples\\\": 224, \\\"single_frequency_class_detected\\\": false}\", \"ModelExplainRunId\": \"AutoML_d3f92056-df67-4e62-a896-ed303c936f5e_ModelExplain\"}, \"tags\": {\"model_explain_run\": \"best_run\", \"_aml_system_azureml.automlComponent\": \"AutoML\", \"pipeline_id\": \"\", \"score\": \"\", \"predicted_cost\": \"\", \"fit_time\": \"\", \"training_percent\": \"\", \"iteration\": \"\", \"run_preprocessor\": \"\", \"run_algorithm\": \"\", \"dynamic_whitelisting_iterations\": \"<25>;<30>;<35>;\", \"automl_best_child_run_id\": \"AutoML_d3f92056-df67-4e62-a896-ed303c936f5e_36\", \"model_explain_best_run_child_id\": \"AutoML_d3f92056-df67-4e62-a896-ed303c936f5e_36\"}, \"end_time_utc\": \"2021-01-25T15:32:38.166908Z\", \"status\": \"Completed\", \"log_files\": {}, \"log_groups\": [], \"run_duration\": \"0:23:12\"}, \"child_runs\": [{\"run_id\": \"AutoML_d3f92056-df67-4e62-a896-ed303c936f5e_0\", \"run_number\": 57, \"metric\": null, \"status\": \"Completed\", \"run_type\": \"azureml.scriptrun\", \"training_percent\": \"100\", \"start_time\": \"2021-01-25T15:18:43.340952Z\", \"end_time\": \"2021-01-25T15:19:34.284797Z\", \"created_time\": \"2021-01-25T15:17:49.851241Z\", \"created_time_dt\": \"2021-01-25T15:17:49.851241Z\", \"duration\": \"0:01:44\", \"iteration\": \"0\", \"goal\": \"accuracy_max\", \"run_name\": \"MaxAbsScaler, LightGBM\", \"run_properties\": \"copy=True\", \"primary_metric\": 0.83474747, \"best_metric\": 0.83474747}, {\"run_id\": \"AutoML_d3f92056-df67-4e62-a896-ed303c936f5e_1\", \"run_number\": 58, \"metric\": null, \"status\": \"Completed\", \"run_type\": \"azureml.scriptrun\", \"training_percent\": \"100\", \"start_time\": \"2021-01-25T15:19:35.917001Z\", \"end_time\": \"2021-01-25T15:20:19.710503Z\", \"created_time\": \"2021-01-25T15:17:49.84949Z\", \"created_time_dt\": \"2021-01-25T15:17:49.84949Z\", \"duration\": \"0:02:29\", \"iteration\": \"1\", \"goal\": \"accuracy_max\", \"run_name\": \"MaxAbsScaler, XGBoostClassifier\", \"run_properties\": \"copy=True\", \"primary_metric\": 0.83010101, \"best_metric\": 0.83474747}, {\"run_id\": \"AutoML_d3f92056-df67-4e62-a896-ed303c936f5e_2\", \"run_number\": 59, \"metric\": null, \"status\": \"Completed\", \"run_type\": \"azureml.scriptrun\", \"training_percent\": \"100\", \"start_time\": \"2021-01-25T15:18:00.225898Z\", \"end_time\": \"2021-01-25T15:18:41.229685Z\", \"created_time\": \"2021-01-25T15:17:49.891126Z\", \"created_time_dt\": \"2021-01-25T15:17:49.891126Z\", \"duration\": \"0:00:51\", \"iteration\": \"2\", \"goal\": \"accuracy_max\", \"run_name\": \"MinMaxScaler, RandomForest\", \"run_properties\": \"copy=True, feature_range=(0, 1\", \"primary_metric\": 0.84808081, \"best_metric\": 0.84808081}, {\"run_id\": \"AutoML_d3f92056-df67-4e62-a896-ed303c936f5e_3\", \"run_number\": 60, \"metric\": null, \"status\": \"Completed\", \"run_type\": \"azureml.scriptrun\", \"training_percent\": \"100\", \"start_time\": \"2021-01-25T15:20:24.535134Z\", \"end_time\": \"2021-01-25T15:21:02.415677Z\", \"created_time\": \"2021-01-25T15:17:49.927571Z\", \"created_time_dt\": \"2021-01-25T15:17:49.927571Z\", \"duration\": \"0:03:12\", \"iteration\": \"3\", \"goal\": \"accuracy_max\", \"run_name\": \"MinMaxScaler, RandomForest\", \"run_properties\": \"copy=True, feature_range=(0, 1\", \"primary_metric\": 0.86606061, \"best_metric\": 0.86606061}, {\"run_id\": \"AutoML_d3f92056-df67-4e62-a896-ed303c936f5e_4\", \"run_number\": 61, \"metric\": null, \"status\": \"Completed\", \"run_type\": \"azureml.scriptrun\", \"training_percent\": \"100\", \"start_time\": \"2021-01-25T15:20:24.971847Z\", \"end_time\": \"2021-01-25T15:23:46.892532Z\", \"created_time\": \"2021-01-25T15:18:43.921121Z\", \"created_time_dt\": \"2021-01-25T15:18:43.921121Z\", \"duration\": \"0:05:02\", \"iteration\": \"4\", \"goal\": \"accuracy_max\", \"run_name\": \"MinMaxScaler, RandomForest\", \"run_properties\": \"copy=True, feature_range=(0, 1\", \"primary_metric\": 0.85707071, \"best_metric\": 0.86606061}, {\"run_id\": \"AutoML_d3f92056-df67-4e62-a896-ed303c936f5e_5\", \"run_number\": 62, \"metric\": null, \"status\": \"Completed\", \"run_type\": \"azureml.scriptrun\", \"training_percent\": \"100\", \"start_time\": \"2021-01-25T15:20:27.884839Z\", \"end_time\": \"2021-01-25T15:24:21.791973Z\", \"created_time\": \"2021-01-25T15:19:36.926076Z\", \"created_time_dt\": \"2021-01-25T15:19:36.926076Z\", \"duration\": \"0:04:44\", \"iteration\": \"5\", \"goal\": \"accuracy_max\", \"run_name\": \"TruncatedSVDWrapper, XGBoostClassifier\", \"run_properties\": \"n_components=0.8510526315789474, random_state=None\", \"primary_metric\": 0.80777778, \"best_metric\": 0.86606061}, {\"run_id\": \"AutoML_d3f92056-df67-4e62-a896-ed303c936f5e_6\", \"run_number\": 63, \"metric\": null, \"status\": \"Completed\", \"run_type\": \"azureml.scriptrun\", \"training_percent\": \"100\", \"start_time\": \"2021-01-25T15:20:33.235551Z\", \"end_time\": \"2021-01-25T15:24:10.918367Z\", \"created_time\": \"2021-01-25T15:20:22.169373Z\", \"created_time_dt\": \"2021-01-25T15:20:22.169373Z\", \"duration\": \"0:03:48\", \"iteration\": \"6\", \"goal\": \"accuracy_max\", \"run_name\": \"StandardScalerWrapper, XGBoostClassifier\", \"run_properties\": \"<azureml.automl.runtime.shared.model_wrappers.StandardScalerWrapper object at 0x7f3be0855898\", \"primary_metric\": 0.83454545, \"best_metric\": 0.86606061}, {\"run_id\": \"AutoML_d3f92056-df67-4e62-a896-ed303c936f5e_7\", \"run_number\": 64, \"metric\": null, \"status\": \"Completed\", \"run_type\": \"azureml.scriptrun\", \"training_percent\": \"100\", \"start_time\": \"2021-01-25T15:21:15.318931Z\", \"end_time\": \"2021-01-25T15:22:01.467398Z\", \"created_time\": \"2021-01-25T15:21:04.434748Z\", \"created_time_dt\": \"2021-01-25T15:21:04.434748Z\", \"duration\": \"0:00:57\", \"iteration\": \"7\", \"goal\": \"accuracy_max\", \"run_name\": \"MinMaxScaler, SVM\", \"run_properties\": \"copy=True, feature_range=(0, 1\", \"primary_metric\": 0.72343434, \"best_metric\": 0.86606061}, {\"run_id\": \"AutoML_d3f92056-df67-4e62-a896-ed303c936f5e_8\", \"run_number\": 65, \"metric\": null, \"status\": \"Completed\", \"run_type\": \"azureml.scriptrun\", \"training_percent\": \"100\", \"start_time\": \"2021-01-25T15:22:16.169247Z\", \"end_time\": \"2021-01-25T15:22:58.862843Z\", \"created_time\": \"2021-01-25T15:22:03.491893Z\", \"created_time_dt\": \"2021-01-25T15:22:03.491893Z\", \"duration\": \"0:00:55\", \"iteration\": \"8\", \"goal\": \"accuracy_max\", \"run_name\": \"MaxAbsScaler, GradientBoosting\", \"run_properties\": \"copy=True\", \"primary_metric\": 0.84808081, \"best_metric\": 0.86606061}, {\"run_id\": \"AutoML_d3f92056-df67-4e62-a896-ed303c936f5e_9\", \"run_number\": 66, \"metric\": null, \"status\": \"Completed\", \"run_type\": \"azureml.scriptrun\", \"training_percent\": \"100\", \"start_time\": \"2021-01-25T15:23:13.407989Z\", \"end_time\": \"2021-01-25T15:23:58.933443Z\", \"created_time\": \"2021-01-25T15:23:00.809113Z\", \"created_time_dt\": \"2021-01-25T15:23:00.809113Z\", \"duration\": \"0:00:58\", \"iteration\": \"9\", \"goal\": \"accuracy_max\", \"run_name\": \"SparseNormalizer, LightGBM\", \"run_properties\": \"<azureml.automl.runtime.shared.model_wrappers.SparseNormalizer object at 0x7f6d81f83898\", \"primary_metric\": 0.76808081, \"best_metric\": 0.86606061}, {\"run_id\": \"AutoML_d3f92056-df67-4e62-a896-ed303c936f5e_10\", \"run_number\": 67, \"metric\": null, \"status\": \"Completed\", \"run_type\": \"azureml.scriptrun\", \"training_percent\": \"100\", \"start_time\": \"2021-01-25T15:23:59.713627Z\", \"end_time\": \"2021-01-25T15:24:45.225956Z\", \"created_time\": \"2021-01-25T15:23:48.585939Z\", \"created_time_dt\": \"2021-01-25T15:23:48.585939Z\", \"duration\": \"0:00:56\", \"iteration\": \"10\", \"goal\": \"accuracy_max\", \"run_name\": \"StandardScalerWrapper, RandomForest\", \"run_properties\": \"<azureml.automl.runtime.shared.model_wrappers.StandardScalerWrapper object at 0x7f6a609fc6d8\", \"primary_metric\": 0.81717172, \"best_metric\": 0.86606061}, {\"run_id\": \"AutoML_d3f92056-df67-4e62-a896-ed303c936f5e_11\", \"run_number\": 68, \"metric\": null, \"status\": \"Completed\", \"run_type\": \"azureml.scriptrun\", \"training_percent\": \"100\", \"start_time\": \"2021-01-25T15:24:12.053237Z\", \"end_time\": \"2021-01-25T15:24:53.693387Z\", \"created_time\": \"2021-01-25T15:24:00.601023Z\", \"created_time_dt\": \"2021-01-25T15:24:00.601023Z\", \"duration\": \"0:00:53\", \"iteration\": \"11\", \"goal\": \"accuracy_max\", \"run_name\": \"SparseNormalizer, XGBoostClassifier\", \"run_properties\": \"<azureml.automl.runtime.shared.model_wrappers.SparseNormalizer object at 0x7f717156e588\", \"primary_metric\": 0.85282828, \"best_metric\": 0.86606061}, {\"run_id\": \"AutoML_d3f92056-df67-4e62-a896-ed303c936f5e_12\", \"run_number\": 69, \"metric\": null, \"status\": \"Completed\", \"run_type\": \"azureml.scriptrun\", \"training_percent\": \"100\", \"start_time\": \"2021-01-25T15:24:23.238439Z\", \"end_time\": \"2021-01-25T15:25:31.977211Z\", \"created_time\": \"2021-01-25T15:24:12.868395Z\", \"created_time_dt\": \"2021-01-25T15:24:12.868395Z\", \"duration\": \"0:01:19\", \"iteration\": \"12\", \"goal\": \"accuracy_max\", \"run_name\": \"MinMaxScaler, LightGBM\", \"run_properties\": \"copy=True, feature_range=(0, 1\", \"primary_metric\": 0.81717172, \"best_metric\": 0.86606061}, {\"run_id\": \"AutoML_d3f92056-df67-4e62-a896-ed303c936f5e_13\", \"run_number\": 70, \"metric\": null, \"status\": \"Completed\", \"run_type\": \"azureml.scriptrun\", \"training_percent\": \"100\", \"start_time\": \"2021-01-25T15:24:35.050456Z\", \"end_time\": \"2021-01-25T15:25:47.908393Z\", \"created_time\": \"2021-01-25T15:24:23.674106Z\", \"created_time_dt\": \"2021-01-25T15:24:23.674106Z\", \"duration\": \"0:01:24\", \"iteration\": \"13\", \"goal\": \"accuracy_max\", \"run_name\": \"RobustScaler, ExtremeRandomTrees\", \"run_properties\": \"copy=True, quantile_range=[25, 75], with_centering=True,\\n             with_scaling=False\", \"primary_metric\": 0.85262626, \"best_metric\": 0.86606061}, {\"run_id\": \"AutoML_d3f92056-df67-4e62-a896-ed303c936f5e_14\", \"run_number\": 71, \"metric\": null, \"status\": \"Completed\", \"run_type\": \"azureml.scriptrun\", \"training_percent\": \"100\", \"start_time\": \"2021-01-25T15:24:57.98213Z\", \"end_time\": \"2021-01-25T15:25:40.515527Z\", \"created_time\": \"2021-01-25T15:24:47.101528Z\", \"created_time_dt\": \"2021-01-25T15:24:47.101528Z\", \"duration\": \"0:00:53\", \"iteration\": \"14\", \"goal\": \"accuracy_max\", \"run_name\": \"RobustScaler, ExtremeRandomTrees\", \"run_properties\": \"copy=True, quantile_range=[25, 75], with_centering=True,\\n             with_scaling=False\", \"primary_metric\": 0.85707071, \"best_metric\": 0.86606061}, {\"run_id\": \"AutoML_d3f92056-df67-4e62-a896-ed303c936f5e_15\", \"run_number\": 72, \"metric\": null, \"status\": \"Completed\", \"run_type\": \"azureml.scriptrun\", \"training_percent\": \"100\", \"start_time\": \"2021-01-25T15:25:07.729795Z\", \"end_time\": \"2021-01-25T15:25:48.593844Z\", \"created_time\": \"2021-01-25T15:24:55.395446Z\", \"created_time_dt\": \"2021-01-25T15:24:55.395446Z\", \"duration\": \"0:00:53\", \"iteration\": \"15\", \"goal\": \"accuracy_max\", \"run_name\": \"StandardScalerWrapper, LightGBM\", \"run_properties\": \"<azureml.automl.runtime.shared.model_wrappers.StandardScalerWrapper object at 0x7f02f471af28\", \"primary_metric\": 0.84353535, \"best_metric\": 0.86606061}, {\"run_id\": \"AutoML_d3f92056-df67-4e62-a896-ed303c936f5e_16\", \"run_number\": 73, \"metric\": null, \"status\": \"Completed\", \"run_type\": \"azureml.scriptrun\", \"training_percent\": \"100\", \"start_time\": \"2021-01-25T15:25:43.513608Z\", \"end_time\": \"2021-01-25T15:26:25.438149Z\", \"created_time\": \"2021-01-25T15:25:33.583449Z\", \"created_time_dt\": \"2021-01-25T15:25:33.583449Z\", \"duration\": \"0:00:51\", \"iteration\": \"16\", \"goal\": \"accuracy_max\", \"run_name\": \"StandardScalerWrapper, LightGBM\", \"run_properties\": \"<azureml.automl.runtime.shared.model_wrappers.StandardScalerWrapper object at 0x7f7504aabe10\", \"primary_metric\": 0.84363636, \"best_metric\": 0.86606061}, {\"run_id\": \"AutoML_d3f92056-df67-4e62-a896-ed303c936f5e_17\", \"run_number\": 74, \"metric\": null, \"status\": \"Completed\", \"run_type\": \"azureml.scriptrun\", \"training_percent\": \"100\", \"start_time\": \"2021-01-25T15:25:54.055678Z\", \"end_time\": \"2021-01-25T15:26:36.724943Z\", \"created_time\": \"2021-01-25T15:25:42.467652Z\", \"created_time_dt\": \"2021-01-25T15:25:42.467652Z\", \"duration\": \"0:00:54\", \"iteration\": \"17\", \"goal\": \"accuracy_max\", \"run_name\": \"MaxAbsScaler, ExtremeRandomTrees\", \"run_properties\": \"copy=True\", \"primary_metric\": 0.84363636, \"best_metric\": 0.86606061}, {\"run_id\": \"AutoML_d3f92056-df67-4e62-a896-ed303c936f5e_18\", \"run_number\": 75, \"metric\": null, \"status\": \"Completed\", \"run_type\": \"azureml.scriptrun\", \"training_percent\": \"100\", \"start_time\": \"2021-01-25T15:26:01.345394Z\", \"end_time\": \"2021-01-25T15:26:49.832121Z\", \"created_time\": \"2021-01-25T15:25:49.522906Z\", \"created_time_dt\": \"2021-01-25T15:25:49.522906Z\", \"duration\": \"0:01:00\", \"iteration\": \"18\", \"goal\": \"accuracy_max\", \"run_name\": \"StandardScalerWrapper, RandomForest\", \"run_properties\": \"<azureml.automl.runtime.shared.model_wrappers.StandardScalerWrapper object at 0x7fbb24e2ffd0\", \"primary_metric\": 0.84343434, \"best_metric\": 0.86606061}, {\"run_id\": \"AutoML_d3f92056-df67-4e62-a896-ed303c936f5e_19\", \"run_number\": 76, \"metric\": null, \"status\": \"Completed\", \"run_type\": \"azureml.scriptrun\", \"training_percent\": \"100\", \"start_time\": \"2021-01-25T15:26:04.400224Z\", \"end_time\": \"2021-01-25T15:26:49.982454Z\", \"created_time\": \"2021-01-25T15:25:52.985688Z\", \"created_time_dt\": \"2021-01-25T15:25:52.985688Z\", \"duration\": \"0:00:56\", \"iteration\": \"19\", \"goal\": \"accuracy_max\", \"run_name\": \"MaxAbsScaler, LightGBM\", \"run_properties\": \"copy=True\", \"primary_metric\": 0.83909091, \"best_metric\": 0.86606061}, {\"run_id\": \"AutoML_d3f92056-df67-4e62-a896-ed303c936f5e_20\", \"run_number\": 77, \"metric\": null, \"status\": \"Completed\", \"run_type\": \"azureml.scriptrun\", \"training_percent\": \"100\", \"start_time\": \"2021-01-25T15:26:37.460691Z\", \"end_time\": \"2021-01-25T15:27:19.188981Z\", \"created_time\": \"2021-01-25T15:26:27.11834Z\", \"created_time_dt\": \"2021-01-25T15:26:27.11834Z\", \"duration\": \"0:00:52\", \"iteration\": \"20\", \"goal\": \"accuracy_max\", \"run_name\": \"StandardScalerWrapper, GradientBoosting\", \"run_properties\": \"<azureml.automl.runtime.shared.model_wrappers.StandardScalerWrapper object at 0x7fa02df60f98\", \"primary_metric\": 0.86151515, \"best_metric\": 0.86606061}, {\"run_id\": \"AutoML_d3f92056-df67-4e62-a896-ed303c936f5e_21\", \"run_number\": 78, \"metric\": null, \"status\": \"Completed\", \"run_type\": \"azureml.scriptrun\", \"training_percent\": \"100\", \"start_time\": \"2021-01-25T15:26:52.016088Z\", \"end_time\": \"2021-01-25T15:27:34.828178Z\", \"created_time\": \"2021-01-25T15:26:38.824542Z\", \"created_time_dt\": \"2021-01-25T15:26:38.824542Z\", \"duration\": \"0:00:56\", \"iteration\": \"21\", \"goal\": \"accuracy_max\", \"run_name\": \"MinMaxScaler, LightGBM\", \"run_properties\": \"copy=True, feature_range=(0, 1\", \"primary_metric\": 0.8659596, \"best_metric\": 0.86606061}, {\"run_id\": \"AutoML_d3f92056-df67-4e62-a896-ed303c936f5e_22\", \"run_number\": 79, \"metric\": null, \"status\": \"Completed\", \"run_type\": \"azureml.scriptrun\", \"training_percent\": \"100\", \"start_time\": \"2021-01-25T15:27:13.08095Z\", \"end_time\": \"2021-01-25T15:27:56.137006Z\", \"created_time\": \"2021-01-25T15:26:51.471968Z\", \"created_time_dt\": \"2021-01-25T15:26:51.471968Z\", \"duration\": \"0:01:04\", \"iteration\": \"22\", \"goal\": \"accuracy_max\", \"run_name\": \"StandardScalerWrapper, XGBoostClassifier\", \"run_properties\": \"<azureml.automl.runtime.shared.model_wrappers.StandardScalerWrapper object at 0x7f7e6c0d2d30\", \"primary_metric\": 0.79444444, \"best_metric\": 0.86606061}, {\"run_id\": \"AutoML_d3f92056-df67-4e62-a896-ed303c936f5e_23\", \"run_number\": 80, \"metric\": null, \"status\": \"Completed\", \"run_type\": \"azureml.scriptrun\", \"training_percent\": \"100\", \"start_time\": \"2021-01-25T15:27:12.272374Z\", \"end_time\": \"2021-01-25T15:27:55.620414Z\", \"created_time\": \"2021-01-25T15:26:51.487422Z\", \"created_time_dt\": \"2021-01-25T15:26:51.487422Z\", \"duration\": \"0:01:04\", \"iteration\": \"23\", \"goal\": \"accuracy_max\", \"run_name\": \"StandardScalerWrapper, XGBoostClassifier\", \"run_properties\": \"<azureml.automl.runtime.shared.model_wrappers.StandardScalerWrapper object at 0x7f4b154d2780\", \"primary_metric\": 0.8389899, \"best_metric\": 0.86606061}, {\"run_id\": \"AutoML_d3f92056-df67-4e62-a896-ed303c936f5e_24\", \"run_number\": 81, \"metric\": null, \"status\": \"Completed\", \"run_type\": \"azureml.scriptrun\", \"training_percent\": \"100\", \"start_time\": \"2021-01-25T15:27:34.162591Z\", \"end_time\": \"2021-01-25T15:28:22.666766Z\", \"created_time\": \"2021-01-25T15:27:20.775806Z\", \"created_time_dt\": \"2021-01-25T15:27:20.775806Z\", \"duration\": \"0:01:01\", \"iteration\": \"24\", \"goal\": \"accuracy_max\", \"run_name\": \"StandardScalerWrapper, RandomForest\", \"run_properties\": \"<azureml.automl.runtime.shared.model_wrappers.StandardScalerWrapper object at 0x7f4d79042780\", \"primary_metric\": 0.80373737, \"best_metric\": 0.86606061}, {\"run_id\": \"AutoML_d3f92056-df67-4e62-a896-ed303c936f5e_25\", \"run_number\": 82, \"metric\": null, \"status\": \"Completed\", \"run_type\": \"azureml.scriptrun\", \"training_percent\": \"100\", \"start_time\": \"2021-01-25T15:27:47.595809Z\", \"end_time\": \"2021-01-25T15:28:35.190537Z\", \"created_time\": \"2021-01-25T15:27:37.709163Z\", \"created_time_dt\": \"2021-01-25T15:27:37.709163Z\", \"duration\": \"0:00:57\", \"iteration\": \"25\", \"goal\": \"accuracy_max\", \"run_name\": \"StandardScalerWrapper, RandomForest\", \"run_properties\": \"<azureml.automl.runtime.shared.model_wrappers.StandardScalerWrapper object at 0x7f11fba0da58\", \"primary_metric\": 0.63383838, \"best_metric\": 0.86606061}, {\"run_id\": \"AutoML_d3f92056-df67-4e62-a896-ed303c936f5e_26\", \"run_number\": 83, \"metric\": null, \"status\": \"Completed\", \"run_type\": \"azureml.scriptrun\", \"training_percent\": \"100\", \"start_time\": \"2021-01-25T15:28:10.084101Z\", \"end_time\": \"2021-01-25T15:28:59.035035Z\", \"created_time\": \"2021-01-25T15:27:57.302326Z\", \"created_time_dt\": \"2021-01-25T15:27:57.302326Z\", \"duration\": \"0:01:01\", \"iteration\": \"26\", \"goal\": \"accuracy_max\", \"run_name\": \"StandardScalerWrapper, LightGBM\", \"run_properties\": \"<azureml.automl.runtime.shared.model_wrappers.StandardScalerWrapper object at 0x7f10293fb3c8\", \"primary_metric\": 0.83484848, \"best_metric\": 0.86606061}, {\"run_id\": \"AutoML_d3f92056-df67-4e62-a896-ed303c936f5e_27\", \"run_number\": 84, \"metric\": null, \"status\": \"Completed\", \"run_type\": \"azureml.scriptrun\", \"training_percent\": \"100\", \"start_time\": \"2021-01-25T15:28:11.139222Z\", \"end_time\": \"2021-01-25T15:28:55.731686Z\", \"created_time\": \"2021-01-25T15:28:01.53742Z\", \"created_time_dt\": \"2021-01-25T15:28:01.53742Z\", \"duration\": \"0:00:54\", \"iteration\": \"27\", \"goal\": \"accuracy_max\", \"run_name\": \"MinMaxScaler, LightGBM\", \"run_properties\": \"copy=True, feature_range=(0, 1\", \"primary_metric\": 0.77252525, \"best_metric\": 0.86606061}, {\"run_id\": \"AutoML_d3f92056-df67-4e62-a896-ed303c936f5e_28\", \"run_number\": 85, \"metric\": null, \"status\": \"Completed\", \"run_type\": \"azureml.scriptrun\", \"training_percent\": \"100\", \"start_time\": \"2021-01-25T15:28:38.439132Z\", \"end_time\": \"2021-01-25T15:29:20.231865Z\", \"created_time\": \"2021-01-25T15:28:24.442582Z\", \"created_time_dt\": \"2021-01-25T15:28:24.442582Z\", \"duration\": \"0:00:55\", \"iteration\": \"28\", \"goal\": \"accuracy_max\", \"run_name\": \"RobustScaler, LightGBM\", \"run_properties\": \"copy=True, quantile_range=[25, 75], with_centering=True,\\n             with_scaling=True\", \"primary_metric\": 0.85242424, \"best_metric\": 0.86606061}, {\"run_id\": \"AutoML_d3f92056-df67-4e62-a896-ed303c936f5e_29\", \"run_number\": 86, \"metric\": null, \"status\": \"Completed\", \"run_type\": \"azureml.scriptrun\", \"training_percent\": \"100\", \"start_time\": \"2021-01-25T15:28:51.788087Z\", \"end_time\": \"2021-01-25T15:30:05.131514Z\", \"created_time\": \"2021-01-25T15:28:37.322335Z\", \"created_time_dt\": \"2021-01-25T15:28:37.322335Z\", \"duration\": \"0:01:27\", \"iteration\": \"29\", \"goal\": \"accuracy_max\", \"run_name\": \"StandardScalerWrapper, LogisticRegression\", \"run_properties\": \"<azureml.automl.runtime.shared.model_wrappers.StandardScalerWrapper object at 0x7f73b1d16ef0\", \"primary_metric\": 0.84383838, \"best_metric\": 0.86606061}, {\"run_id\": \"AutoML_d3f92056-df67-4e62-a896-ed303c936f5e_30\", \"run_number\": 87, \"metric\": null, \"status\": \"Completed\", \"run_type\": \"azureml.scriptrun\", \"training_percent\": \"100\", \"start_time\": \"2021-01-25T15:29:09.606571Z\", \"end_time\": \"2021-01-25T15:29:52.378327Z\", \"created_time\": \"2021-01-25T15:28:58.355504Z\", \"created_time_dt\": \"2021-01-25T15:28:58.355504Z\", \"duration\": \"0:00:54\", \"iteration\": \"30\", \"goal\": \"accuracy_max\", \"run_name\": \"MaxAbsScaler, RandomForest\", \"run_properties\": \"copy=True\", \"primary_metric\": 0.68787879, \"best_metric\": 0.86606061}, {\"run_id\": \"AutoML_d3f92056-df67-4e62-a896-ed303c936f5e_31\", \"run_number\": 88, \"metric\": null, \"status\": \"Completed\", \"run_type\": \"azureml.scriptrun\", \"training_percent\": \"100\", \"start_time\": \"2021-01-25T15:29:12.144106Z\", \"end_time\": \"2021-01-25T15:29:56.85684Z\", \"created_time\": \"2021-01-25T15:29:01.393102Z\", \"created_time_dt\": \"2021-01-25T15:29:01.393102Z\", \"duration\": \"0:00:55\", \"iteration\": \"31\", \"goal\": \"accuracy_max\", \"run_name\": \"MaxAbsScaler, LightGBM\", \"run_properties\": \"copy=True\", \"primary_metric\": 0.85252525, \"best_metric\": 0.86606061}, {\"run_id\": \"AutoML_d3f92056-df67-4e62-a896-ed303c936f5e_32\", \"run_number\": 89, \"metric\": null, \"status\": \"Completed\", \"run_type\": \"azureml.scriptrun\", \"training_percent\": \"100\", \"start_time\": \"2021-01-25T15:29:33.741241Z\", \"end_time\": \"2021-01-25T15:30:13.930743Z\", \"created_time\": \"2021-01-25T15:29:21.991258Z\", \"created_time_dt\": \"2021-01-25T15:29:21.991258Z\", \"duration\": \"0:00:51\", \"iteration\": \"32\", \"goal\": \"accuracy_max\", \"run_name\": \"MaxAbsScaler, RandomForest\", \"run_properties\": \"copy=True\", \"primary_metric\": 0.82606061, \"best_metric\": 0.86606061}, {\"run_id\": \"AutoML_d3f92056-df67-4e62-a896-ed303c936f5e_33\", \"run_number\": 90, \"metric\": null, \"status\": \"Canceled\", \"run_type\": \"azureml.scriptrun\", \"training_percent\": \"100\", \"start_time\": \"2021-01-25T15:30:06.61307Z\", \"end_time\": \"2021-01-25T15:30:20.945952Z\", \"created_time\": \"2021-01-25T15:29:54.136727Z\", \"created_time_dt\": \"2021-01-25T15:29:54.136727Z\", \"duration\": \"0:00:26\", \"iteration\": \"33\", \"goal\": null, \"run_name\": \"Canceled\", \"run_properties\": null}, {\"run_id\": \"AutoML_d3f92056-df67-4e62-a896-ed303c936f5e_34\", \"run_number\": 91, \"metric\": null, \"status\": \"Canceled\", \"run_type\": \"azureml.scriptrun\", \"training_percent\": \"100\", \"start_time\": \"2021-01-25T15:30:09.625634Z\", \"end_time\": \"2021-01-25T15:30:21.557578Z\", \"created_time\": \"2021-01-25T15:29:58.668877Z\", \"created_time_dt\": \"2021-01-25T15:29:58.668877Z\", \"duration\": \"0:00:22\", \"iteration\": \"34\", \"goal\": null, \"run_name\": \"Canceled\", \"run_properties\": null}, {\"run_id\": \"AutoML_d3f92056-df67-4e62-a896-ed303c936f5e_35\", \"run_number\": 92, \"metric\": null, \"status\": \"Canceled\", \"run_type\": \"azureml.scriptrun\", \"training_percent\": \"100\", \"start_time\": \"2021-01-25T15:30:07.759323Z\", \"end_time\": \"2021-01-25T15:30:24.753427Z\", \"created_time\": \"2021-01-25T15:30:07.759323Z\", \"created_time_dt\": \"2021-01-25T15:30:07.759323Z\", \"duration\": \"0:00:16\", \"iteration\": \"35\", \"goal\": null, \"run_name\": \"Canceled\", \"run_properties\": null}, {\"run_id\": \"AutoML_d3f92056-df67-4e62-a896-ed303c936f5e_36\", \"run_number\": 93, \"metric\": null, \"status\": \"Completed\", \"run_type\": \"azureml.scriptrun\", \"training_percent\": \"100\", \"start_time\": \"2021-01-25T15:30:37.212186Z\", \"end_time\": \"2021-01-25T15:31:56.038408Z\", \"created_time\": \"2021-01-25T15:30:25.571434Z\", \"created_time_dt\": \"2021-01-25T15:30:25.571434Z\", \"duration\": \"0:01:30\", \"iteration\": \"36\", \"goal\": \"accuracy_max\", \"run_name\": \"VotingEnsemble\", \"run_properties\": \"classification_labels=None,\\n                              estimators=[('3',\\n                                           Pipeline(memory=None,\\n                                                    steps=[('minmaxscaler',\\n                                                            MinMaxScaler(copy=True,\\n                                                                         feature_range=(0,\\n                                                                                        1\", \"primary_metric\": 0.88383838, \"best_metric\": 0.88383838}, {\"run_id\": \"AutoML_d3f92056-df67-4e62-a896-ed303c936f5e_37\", \"run_number\": 94, \"metric\": null, \"status\": \"Completed\", \"run_type\": \"azureml.scriptrun\", \"training_percent\": \"100\", \"start_time\": \"2021-01-25T15:30:35.708548Z\", \"end_time\": \"2021-01-25T15:32:26.538281Z\", \"created_time\": \"2021-01-25T15:30:25.643468Z\", \"created_time_dt\": \"2021-01-25T15:30:25.643468Z\", \"duration\": \"0:02:00\", \"iteration\": \"37\", \"goal\": \"accuracy_max\", \"run_name\": \"StackEnsemble\", \"run_properties\": \"base_learners=[('3',\\n                                        Pipeline(memory=None,\\n                                                 steps=[('minmaxscaler',\\n                                                         MinMaxScaler(copy=True,\\n                                                                      feature_range=(0,\\n                                                                                     1\", \"primary_metric\": 0.8659596, \"best_metric\": 0.88383838}], \"children_metrics\": {\"categories\": [0], \"series\": {\"balanced_accuracy\": [{\"categories\": [\"0\", \"1\", \"2\", \"3\", \"4\", \"5\", \"6\", \"7\", \"8\", \"9\", \"10\", \"11\", \"12\", \"13\", \"14\", \"15\", \"16\", \"17\", \"18\", \"19\", \"20\", \"21\", \"22\", \"23\", \"24\", \"25\", \"26\", \"27\", \"28\", \"29\", \"30\", \"31\", \"32\", \"36\", \"37\"], \"mode\": \"markers\", \"name\": \"balanced_accuracy\", \"stepped\": false, \"type\": \"scatter\", \"data\": [0.7998841354723708, 0.7948573975044564, 0.7955831423478482, 0.8086083524318818, 0.8172230710466003, 0.7500509294626941, 0.795725744843392, 0.6077794754265342, 0.8154583651642475, 0.6543188184364656, 0.7402304558186911, 0.807501909854851, 0.7329755538579068, 0.7811701044053986, 0.7895174433409727, 0.7872358034122741, 0.7978953399541634, 0.7669684237331296, 0.7904150751209574, 0.7813534504710976, 0.8300394703335879, 0.8345199898141074, 0.7169391392920806, 0.7899388846447669, 0.7104265342500637, 0.6315546218487395, 0.7668971224853577, 0.6773185637891521, 0.8194219505984213, 0.8107804940157882, 0.5, 0.8282747644512349, 0.7539559460147695, 0.840248281130634, 0.8274611662846958]}, {\"categories\": [\"0\", \"1\", \"2\", \"3\", \"4\", \"5\", \"6\", \"7\", \"8\", \"9\", \"10\", \"11\", \"12\", \"13\", \"14\", \"15\", \"16\", \"17\", \"18\", \"19\", \"20\", \"21\", \"22\", \"23\", \"24\", \"25\", \"26\", \"27\", \"28\", \"29\", \"30\", \"31\", \"32\", \"36\", \"37\"], \"mode\": \"lines\", \"name\": \"balanced_accuracy_max\", \"stepped\": true, \"type\": \"scatter\", \"data\": [0.7998841354723708, 0.7998841354723708, 0.7998841354723708, 0.8086083524318818, 0.8172230710466003, 0.8172230710466003, 0.8172230710466003, 0.8172230710466003, 0.8172230710466003, 0.8172230710466003, 0.8172230710466003, 0.8172230710466003, 0.8172230710466003, 0.8172230710466003, 0.8172230710466003, 0.8172230710466003, 0.8172230710466003, 0.8172230710466003, 0.8172230710466003, 0.8172230710466003, 0.8300394703335879, 0.8345199898141074, 0.8345199898141074, 0.8345199898141074, 0.8345199898141074, 0.8345199898141074, 0.8345199898141074, 0.8345199898141074, 0.8345199898141074, 0.8345199898141074, 0.8345199898141074, 0.8345199898141074, 0.8345199898141074, 0.840248281130634, 0.840248281130634]}], \"AUC_weighted\": [{\"categories\": [\"0\", \"1\", \"2\", \"3\", \"4\", \"5\", \"6\", \"7\", \"8\", \"9\", \"10\", \"11\", \"12\", \"13\", \"14\", \"15\", \"16\", \"17\", \"18\", \"19\", \"20\", \"21\", \"22\", \"23\", \"24\", \"25\", \"26\", \"27\", \"28\", \"29\", \"30\", \"31\", \"32\", \"36\", \"37\"], \"mode\": \"markers\", \"name\": \"AUC_weighted\", \"stepped\": false, \"type\": \"scatter\", \"data\": [0.890215601392072, 0.8973908836261778, 0.902420592479416, 0.8996698073168663, 0.8948684322213734, 0.8683218742042271, 0.899436889907478, 0.7805729564553094, 0.9214978354978355, 0.8618324420677361, 0.9136061454884985, 0.8885682030387914, 0.9154482641541467, 0.9133654188948306, 0.9057996774467364, 0.9244943553178846, 0.9125106527459467, 0.8943544690603515, 0.9016392496392495, 0.9188673287496817, 0.9048943213649097, 0.9153119429590018, 0.9011958237840589, 0.9013756896698073, 0.9027753161870808, 0.6518029029793736, 0.9222388591800357, 0.8815148119854003, 0.9065357779475427, 0.8718015448603683, 0.704988965283083, 0.9114784823020117, 0.8948990747814276, 0.914271963330787, 0.9074382480264832]}, {\"categories\": [\"0\", \"1\", \"2\", \"3\", \"4\", \"5\", \"6\", \"7\", \"8\", \"9\", \"10\", \"11\", \"12\", \"13\", \"14\", \"15\", \"16\", \"17\", \"18\", \"19\", \"20\", \"21\", \"22\", \"23\", \"24\", \"25\", \"26\", \"27\", \"28\", \"29\", \"30\", \"31\", \"32\", \"36\", \"37\"], \"mode\": \"lines\", \"name\": \"AUC_weighted_max\", \"stepped\": true, \"type\": \"scatter\", \"data\": [0.890215601392072, 0.8973908836261778, 0.902420592479416, 0.902420592479416, 0.902420592479416, 0.902420592479416, 0.902420592479416, 0.902420592479416, 0.9214978354978355, 0.9214978354978355, 0.9214978354978355, 0.9214978354978355, 0.9214978354978355, 0.9214978354978355, 0.9214978354978355, 0.9244943553178846, 0.9244943553178846, 0.9244943553178846, 0.9244943553178846, 0.9244943553178846, 0.9244943553178846, 0.9244943553178846, 0.9244943553178846, 0.9244943553178846, 0.9244943553178846, 0.9244943553178846, 0.9244943553178846, 0.9244943553178846, 0.9244943553178846, 0.9244943553178846, 0.9244943553178846, 0.9244943553178846, 0.9244943553178846, 0.9244943553178846, 0.9244943553178846]}], \"f1_score_macro\": [{\"categories\": [\"0\", \"1\", \"2\", \"3\", \"4\", \"5\", \"6\", \"7\", \"8\", \"9\", \"10\", \"11\", \"12\", \"13\", \"14\", \"15\", \"16\", \"17\", \"18\", \"19\", \"20\", \"21\", \"22\", \"23\", \"24\", \"25\", \"26\", \"27\", \"28\", \"29\", \"30\", \"31\", \"32\", \"36\", \"37\"], \"mode\": \"markers\", \"name\": \"f1_score_macro\", \"stepped\": false, \"type\": \"scatter\", \"data\": [0.8019589493152754, 0.7977983618411308, 0.8091871726566859, 0.8276816634942531, 0.8255297078138556, 0.7600446658816623, 0.799499627785632, 0.6083932942149582, 0.8181771885261166, 0.6626240835432012, 0.755174790910085, 0.8175003768875342, 0.7545096907596907, 0.802111967504544, 0.8114242916825578, 0.8015243547464201, 0.8072891743859486, 0.7897375621066193, 0.8028835130671261, 0.7957941664386434, 0.8331108686587735, 0.8384828871578704, 0.729388893670754, 0.8001087554801888, 0.7318026111551903, 0.5437467900224319, 0.7830961956079052, 0.6871276322357677, 0.8217363066800234, 0.8140117781948402, 0.4066800940808223, 0.8257583493710345, 0.7703910294577068, 0.8556117907501154, 0.8358587494477826]}, {\"categories\": [\"0\", \"1\", \"2\", \"3\", \"4\", \"5\", \"6\", \"7\", \"8\", \"9\", \"10\", \"11\", \"12\", \"13\", \"14\", \"15\", \"16\", \"17\", \"18\", \"19\", \"20\", \"21\", \"22\", \"23\", \"24\", \"25\", \"26\", \"27\", \"28\", \"29\", \"30\", \"31\", \"32\", \"36\", \"37\"], \"mode\": \"lines\", \"name\": \"f1_score_macro_max\", \"stepped\": true, \"type\": \"scatter\", \"data\": [0.8019589493152754, 0.8019589493152754, 0.8091871726566859, 0.8276816634942531, 0.8276816634942531, 0.8276816634942531, 0.8276816634942531, 0.8276816634942531, 0.8276816634942531, 0.8276816634942531, 0.8276816634942531, 0.8276816634942531, 0.8276816634942531, 0.8276816634942531, 0.8276816634942531, 0.8276816634942531, 0.8276816634942531, 0.8276816634942531, 0.8276816634942531, 0.8276816634942531, 0.8331108686587735, 0.8384828871578704, 0.8384828871578704, 0.8384828871578704, 0.8384828871578704, 0.8384828871578704, 0.8384828871578704, 0.8384828871578704, 0.8384828871578704, 0.8384828871578704, 0.8384828871578704, 0.8384828871578704, 0.8384828871578704, 0.8556117907501154, 0.8556117907501154]}], \"f1_score_weighted\": [{\"categories\": [\"0\", \"1\", \"2\", \"3\", \"4\", \"5\", \"6\", \"7\", \"8\", \"9\", \"10\", \"11\", \"12\", \"13\", \"14\", \"15\", \"16\", \"17\", \"18\", \"19\", \"20\", \"21\", \"22\", \"23\", \"24\", \"25\", \"26\", \"27\", \"28\", \"29\", \"30\", \"31\", \"32\", \"36\", \"37\"], \"mode\": \"markers\", \"name\": \"f1_score_weighted\", \"stepped\": false, \"type\": \"scatter\", \"data\": [0.8335436758943086, 0.829802471117889, 0.8443654567827258, 0.860736731569302, 0.8550553668742701, 0.80254393927662, 0.8332519412164135, 0.6882161886928102, 0.8471396723355429, 0.7342570898453251, 0.8021827953919457, 0.8483222427045923, 0.8014642164642165, 0.8429684340027329, 0.8492446171818033, 0.8388832927828777, 0.8398414381679288, 0.8331814860162966, 0.8401835419899111, 0.8338623905417031, 0.8606001128491236, 0.865055870102301, 0.781308217442797, 0.8366659209561765, 0.7847541550817165, 0.5869697856574352, 0.8254755259927349, 0.7474933606364573, 0.8521921351565709, 0.8432350181416395, 0.5623973875959309, 0.8526844183103964, 0.8145351734623143, 0.8810995229208679, 0.8642345494282063]}, {\"categories\": [\"0\", \"1\", \"2\", \"3\", \"4\", \"5\", \"6\", \"7\", \"8\", \"9\", \"10\", \"11\", \"12\", \"13\", \"14\", \"15\", \"16\", \"17\", \"18\", \"19\", \"20\", \"21\", \"22\", \"23\", \"24\", \"25\", \"26\", \"27\", \"28\", \"29\", \"30\", \"31\", \"32\", \"36\", \"37\"], \"mode\": \"lines\", \"name\": \"f1_score_weighted_max\", \"stepped\": true, \"type\": \"scatter\", \"data\": [0.8335436758943086, 0.8335436758943086, 0.8443654567827258, 0.860736731569302, 0.860736731569302, 0.860736731569302, 0.860736731569302, 0.860736731569302, 0.860736731569302, 0.860736731569302, 0.860736731569302, 0.860736731569302, 0.860736731569302, 0.860736731569302, 0.860736731569302, 0.860736731569302, 0.860736731569302, 0.860736731569302, 0.860736731569302, 0.860736731569302, 0.860736731569302, 0.865055870102301, 0.865055870102301, 0.865055870102301, 0.865055870102301, 0.865055870102301, 0.865055870102301, 0.865055870102301, 0.865055870102301, 0.865055870102301, 0.865055870102301, 0.865055870102301, 0.865055870102301, 0.8810995229208679, 0.8810995229208679]}], \"precision_score_micro\": [{\"categories\": [\"0\", \"1\", \"2\", \"3\", \"4\", \"5\", \"6\", \"7\", \"8\", \"9\", \"10\", \"11\", \"12\", \"13\", \"14\", \"15\", \"16\", \"17\", \"18\", \"19\", \"20\", \"21\", \"22\", \"23\", \"24\", \"25\", \"26\", \"27\", \"28\", \"29\", \"30\", \"31\", \"32\", \"36\", \"37\"], \"mode\": \"markers\", \"name\": \"precision_score_micro\", \"stepped\": false, \"type\": \"scatter\", \"data\": [0.8347474747474747, 0.83010101010101, 0.848080808080808, 0.866060606060606, 0.8570707070707071, 0.8077777777777777, 0.8345454545454544, 0.7234343434343435, 0.8480808080808082, 0.7680808080808081, 0.8171717171717171, 0.8528282828282828, 0.8171717171717171, 0.8526262626262626, 0.8570707070707071, 0.8435353535353535, 0.8436363636363635, 0.8436363636363635, 0.8434343434343434, 0.8390909090909091, 0.8615151515151516, 0.8659595959595959, 0.7944444444444445, 0.838989898989899, 0.8037373737373738, 0.6338383838383839, 0.8348484848484847, 0.7725252525252525, 0.8524242424242423, 0.8438383838383838, 0.6878787878787879, 0.8525252525252526, 0.8260606060606059, 0.8838383838383839, 0.8659595959595959]}, {\"categories\": [\"0\", \"1\", \"2\", \"3\", \"4\", \"5\", \"6\", \"7\", \"8\", \"9\", \"10\", \"11\", \"12\", \"13\", \"14\", \"15\", \"16\", \"17\", \"18\", \"19\", \"20\", \"21\", \"22\", \"23\", \"24\", \"25\", \"26\", \"27\", \"28\", \"29\", \"30\", \"31\", \"32\", \"36\", \"37\"], \"mode\": \"lines\", \"name\": \"precision_score_micro_max\", \"stepped\": true, \"type\": \"scatter\", \"data\": [0.8347474747474747, 0.8347474747474747, 0.848080808080808, 0.866060606060606, 0.866060606060606, 0.866060606060606, 0.866060606060606, 0.866060606060606, 0.866060606060606, 0.866060606060606, 0.866060606060606, 0.866060606060606, 0.866060606060606, 0.866060606060606, 0.866060606060606, 0.866060606060606, 0.866060606060606, 0.866060606060606, 0.866060606060606, 0.866060606060606, 0.866060606060606, 0.866060606060606, 0.866060606060606, 0.866060606060606, 0.866060606060606, 0.866060606060606, 0.866060606060606, 0.866060606060606, 0.866060606060606, 0.866060606060606, 0.866060606060606, 0.866060606060606, 0.866060606060606, 0.8838383838383839, 0.8838383838383839]}], \"recall_score_macro\": [{\"categories\": [\"0\", \"1\", \"2\", \"3\", \"4\", \"5\", \"6\", \"7\", \"8\", \"9\", \"10\", \"11\", \"12\", \"13\", \"14\", \"15\", \"16\", \"17\", \"18\", \"19\", \"20\", \"21\", \"22\", \"23\", \"24\", \"25\", \"26\", \"27\", \"28\", \"29\", \"30\", \"31\", \"32\", \"36\", \"37\"], \"mode\": \"markers\", \"name\": \"recall_score_macro\", \"stepped\": false, \"type\": \"scatter\", \"data\": [0.7998841354723708, 0.7948573975044564, 0.7955831423478482, 0.8086083524318818, 0.8172230710466003, 0.7500509294626941, 0.795725744843392, 0.6077794754265342, 0.8154583651642475, 0.6543188184364656, 0.7402304558186911, 0.807501909854851, 0.7329755538579068, 0.7811701044053986, 0.7895174433409727, 0.7872358034122741, 0.7978953399541634, 0.7669684237331296, 0.7904150751209574, 0.7813534504710976, 0.8300394703335879, 0.8345199898141074, 0.7169391392920806, 0.7899388846447669, 0.7104265342500637, 0.6315546218487395, 0.7668971224853577, 0.6773185637891521, 0.8194219505984213, 0.8107804940157882, 0.5, 0.8282747644512349, 0.7539559460147695, 0.840248281130634, 0.8274611662846958]}, {\"categories\": [\"0\", \"1\", \"2\", \"3\", \"4\", \"5\", \"6\", \"7\", \"8\", \"9\", \"10\", \"11\", \"12\", \"13\", \"14\", \"15\", \"16\", \"17\", \"18\", \"19\", \"20\", \"21\", \"22\", \"23\", \"24\", \"25\", \"26\", \"27\", \"28\", \"29\", \"30\", \"31\", \"32\", \"36\", \"37\"], \"mode\": \"lines\", \"name\": \"recall_score_macro_max\", \"stepped\": true, \"type\": \"scatter\", \"data\": [0.7998841354723708, 0.7998841354723708, 0.7998841354723708, 0.8086083524318818, 0.8172230710466003, 0.8172230710466003, 0.8172230710466003, 0.8172230710466003, 0.8172230710466003, 0.8172230710466003, 0.8172230710466003, 0.8172230710466003, 0.8172230710466003, 0.8172230710466003, 0.8172230710466003, 0.8172230710466003, 0.8172230710466003, 0.8172230710466003, 0.8172230710466003, 0.8172230710466003, 0.8300394703335879, 0.8345199898141074, 0.8345199898141074, 0.8345199898141074, 0.8345199898141074, 0.8345199898141074, 0.8345199898141074, 0.8345199898141074, 0.8345199898141074, 0.8345199898141074, 0.8345199898141074, 0.8345199898141074, 0.8345199898141074, 0.840248281130634, 0.840248281130634]}], \"precision_score_weighted\": [{\"categories\": [\"0\", \"1\", \"2\", \"3\", \"4\", \"5\", \"6\", \"7\", \"8\", \"9\", \"10\", \"11\", \"12\", \"13\", \"14\", \"15\", \"16\", \"17\", \"18\", \"19\", \"20\", \"21\", \"22\", \"23\", \"24\", \"25\", \"26\", \"27\", \"28\", \"29\", \"30\", \"31\", \"32\", \"36\", \"37\"], \"mode\": \"markers\", \"name\": \"precision_score_weighted\", \"stepped\": false, \"type\": \"scatter\", \"data\": [0.8364118283922233, 0.8323193952876935, 0.848803279757739, 0.8669373117949968, 0.8578869119261643, 0.810271961090143, 0.8380545195545196, 0.7071951031088962, 0.8541614403119778, 0.7791626203556028, 0.82355774634722, 0.8551010891198979, 0.8281066217732885, 0.8650316092576155, 0.866465956949828, 0.8488469093307802, 0.8497872801671822, 0.8538328289644079, 0.8501359198844968, 0.8443884943884944, 0.8625238798964656, 0.871011211868646, 0.8104985517800193, 0.842463295931038, 0.8154354397687731, 0.5971620699553576, 0.8453533841234376, 0.7719180424443581, 0.8577995111220919, 0.8436431289017495, 0.4773474135292318, 0.8587984082822793, 0.8322281207575326, 0.8868347718347719, 0.8669417172740731]}, {\"categories\": [\"0\", \"1\", \"2\", \"3\", \"4\", \"5\", \"6\", \"7\", \"8\", \"9\", \"10\", \"11\", \"12\", \"13\", \"14\", \"15\", \"16\", \"17\", \"18\", \"19\", \"20\", \"21\", \"22\", \"23\", \"24\", \"25\", \"26\", \"27\", \"28\", \"29\", \"30\", \"31\", \"32\", \"36\", \"37\"], \"mode\": \"lines\", \"name\": \"precision_score_weighted_max\", \"stepped\": true, \"type\": \"scatter\", \"data\": [0.8364118283922233, 0.8364118283922233, 0.848803279757739, 0.8669373117949968, 0.8669373117949968, 0.8669373117949968, 0.8669373117949968, 0.8669373117949968, 0.8669373117949968, 0.8669373117949968, 0.8669373117949968, 0.8669373117949968, 0.8669373117949968, 0.8669373117949968, 0.8669373117949968, 0.8669373117949968, 0.8669373117949968, 0.8669373117949968, 0.8669373117949968, 0.8669373117949968, 0.8669373117949968, 0.871011211868646, 0.871011211868646, 0.871011211868646, 0.871011211868646, 0.871011211868646, 0.871011211868646, 0.871011211868646, 0.871011211868646, 0.871011211868646, 0.871011211868646, 0.871011211868646, 0.871011211868646, 0.8868347718347719, 0.8868347718347719]}], \"accuracy\": [{\"categories\": [\"0\", \"1\", \"2\", \"3\", \"4\", \"5\", \"6\", \"7\", \"8\", \"9\", \"10\", \"11\", \"12\", \"13\", \"14\", \"15\", \"16\", \"17\", \"18\", \"19\", \"20\", \"21\", \"22\", \"23\", \"24\", \"25\", \"26\", \"27\", \"28\", \"29\", \"30\", \"31\", \"32\", \"36\", \"37\"], \"mode\": \"markers\", \"name\": \"accuracy\", \"stepped\": false, \"type\": \"scatter\", \"data\": [0.8347474747474747, 0.83010101010101, 0.848080808080808, 0.866060606060606, 0.8570707070707071, 0.8077777777777777, 0.8345454545454544, 0.7234343434343435, 0.8480808080808082, 0.7680808080808081, 0.8171717171717171, 0.8528282828282828, 0.8171717171717171, 0.8526262626262626, 0.8570707070707071, 0.8435353535353535, 0.8436363636363635, 0.8436363636363635, 0.8434343434343434, 0.8390909090909091, 0.8615151515151516, 0.8659595959595959, 0.7944444444444445, 0.838989898989899, 0.8037373737373738, 0.6338383838383839, 0.8348484848484847, 0.7725252525252525, 0.8524242424242423, 0.8438383838383838, 0.6878787878787879, 0.8525252525252526, 0.8260606060606059, 0.8838383838383839, 0.8659595959595959]}, {\"categories\": [\"0\", \"1\", \"2\", \"3\", \"4\", \"5\", \"6\", \"7\", \"8\", \"9\", \"10\", \"11\", \"12\", \"13\", \"14\", \"15\", \"16\", \"17\", \"18\", \"19\", \"20\", \"21\", \"22\", \"23\", \"24\", \"25\", \"26\", \"27\", \"28\", \"29\", \"30\", \"31\", \"32\", \"36\", \"37\"], \"mode\": \"lines\", \"name\": \"accuracy_max\", \"stepped\": true, \"type\": \"scatter\", \"data\": [0.8347474747474747, 0.8347474747474747, 0.848080808080808, 0.866060606060606, 0.866060606060606, 0.866060606060606, 0.866060606060606, 0.866060606060606, 0.866060606060606, 0.866060606060606, 0.866060606060606, 0.866060606060606, 0.866060606060606, 0.866060606060606, 0.866060606060606, 0.866060606060606, 0.866060606060606, 0.866060606060606, 0.866060606060606, 0.866060606060606, 0.866060606060606, 0.866060606060606, 0.866060606060606, 0.866060606060606, 0.866060606060606, 0.866060606060606, 0.866060606060606, 0.866060606060606, 0.866060606060606, 0.866060606060606, 0.866060606060606, 0.866060606060606, 0.866060606060606, 0.8838383838383839, 0.8838383838383839]}], \"average_precision_score_macro\": [{\"categories\": [\"0\", \"1\", \"2\", \"3\", \"4\", \"5\", \"6\", \"7\", \"8\", \"9\", \"10\", \"11\", \"12\", \"13\", \"14\", \"15\", \"16\", \"17\", \"18\", \"19\", \"20\", \"21\", \"22\", \"23\", \"24\", \"25\", \"26\", \"27\", \"28\", \"29\", \"30\", \"31\", \"32\", \"36\", \"37\"], \"mode\": \"markers\", \"name\": \"average_precision_score_macro\", \"stepped\": false, \"type\": \"scatter\", \"data\": [0.8894057129775088, 0.8856496302113536, 0.8874431262827283, 0.8993633805710031, 0.8902458558295345, 0.8624915895927703, 0.8866099914606916, 0.7609391515457808, 0.9118313221052443, 0.8403652043737718, 0.9060804663465338, 0.8879493315686071, 0.8950502796438403, 0.906741924052852, 0.9000093667208553, 0.9081627401121155, 0.9029856931518376, 0.8890779823163883, 0.8971805930871536, 0.9065762146589836, 0.8988784016228843, 0.9048927170715553, 0.883988235217364, 0.886176814988945, 0.8852794141908676, 0.5972505600767856, 0.9132989782868078, 0.8597933441019776, 0.8931162200642296, 0.8650850884473946, 0.6911586294528819, 0.9047457029547259, 0.881597587119407, 0.9119480571922013, 0.9026208171148744]}, {\"categories\": [\"0\", \"1\", \"2\", \"3\", \"4\", \"5\", \"6\", \"7\", \"8\", \"9\", \"10\", \"11\", \"12\", \"13\", \"14\", \"15\", \"16\", \"17\", \"18\", \"19\", \"20\", \"21\", \"22\", \"23\", \"24\", \"25\", \"26\", \"27\", \"28\", \"29\", \"30\", \"31\", \"32\", \"36\", \"37\"], \"mode\": \"lines\", \"name\": \"average_precision_score_macro_max\", \"stepped\": true, \"type\": \"scatter\", \"data\": [0.8894057129775088, 0.8894057129775088, 0.8894057129775088, 0.8993633805710031, 0.8993633805710031, 0.8993633805710031, 0.8993633805710031, 0.8993633805710031, 0.9118313221052443, 0.9118313221052443, 0.9118313221052443, 0.9118313221052443, 0.9118313221052443, 0.9118313221052443, 0.9118313221052443, 0.9118313221052443, 0.9118313221052443, 0.9118313221052443, 0.9118313221052443, 0.9118313221052443, 0.9118313221052443, 0.9118313221052443, 0.9118313221052443, 0.9118313221052443, 0.9118313221052443, 0.9118313221052443, 0.9132989782868078, 0.9132989782868078, 0.9132989782868078, 0.9132989782868078, 0.9132989782868078, 0.9132989782868078, 0.9132989782868078, 0.9132989782868078, 0.9132989782868078]}], \"precision_score_macro\": [{\"categories\": [\"0\", \"1\", \"2\", \"3\", \"4\", \"5\", \"6\", \"7\", \"8\", \"9\", \"10\", \"11\", \"12\", \"13\", \"14\", \"15\", \"16\", \"17\", \"18\", \"19\", \"20\", \"21\", \"22\", \"23\", \"24\", \"25\", \"26\", \"27\", \"28\", \"29\", \"30\", \"31\", \"32\", \"36\", \"37\"], \"mode\": \"markers\", \"name\": \"precision_score_macro\", \"stepped\": false, \"type\": \"scatter\", \"data\": [0.8092304687340839, 0.8044291276020974, 0.8340462786525406, 0.8626005883003037, 0.8403249782907736, 0.7867266517266517, 0.8108163650075415, 0.6877663572060123, 0.8321321510031187, 0.777266081871345, 0.8222576591365292, 0.8432888060474267, 0.8354761904761905, 0.8657774881207544, 0.869766609262577, 0.835040676411644, 0.833881947301065, 0.8572860436347278, 0.8327940504885476, 0.8307744788994789, 0.8396388180457899, 0.8518973776655923, 0.8012792371995408, 0.8215415142834498, 0.8226823251823252, 0.5269376212396807, 0.8397614938056114, 0.7604117275169907, 0.8316501979203593, 0.8185026193380656, 0.34393939393939393, 0.831445990758135, 0.8267771854536561, 0.8826298426666075, 0.8501349815059493]}, {\"categories\": [\"0\", \"1\", \"2\", \"3\", \"4\", \"5\", \"6\", \"7\", \"8\", \"9\", \"10\", \"11\", \"12\", \"13\", \"14\", \"15\", \"16\", \"17\", \"18\", \"19\", \"20\", \"21\", \"22\", \"23\", \"24\", \"25\", \"26\", \"27\", \"28\", \"29\", \"30\", \"31\", \"32\", \"36\", \"37\"], \"mode\": \"lines\", \"name\": \"precision_score_macro_max\", \"stepped\": true, \"type\": \"scatter\", \"data\": [0.8092304687340839, 0.8092304687340839, 0.8340462786525406, 0.8626005883003037, 0.8626005883003037, 0.8626005883003037, 0.8626005883003037, 0.8626005883003037, 0.8626005883003037, 0.8626005883003037, 0.8626005883003037, 0.8626005883003037, 0.8626005883003037, 0.8657774881207544, 0.869766609262577, 0.869766609262577, 0.869766609262577, 0.869766609262577, 0.869766609262577, 0.869766609262577, 0.869766609262577, 0.869766609262577, 0.869766609262577, 0.869766609262577, 0.869766609262577, 0.869766609262577, 0.869766609262577, 0.869766609262577, 0.869766609262577, 0.869766609262577, 0.869766609262577, 0.869766609262577, 0.869766609262577, 0.8826298426666075, 0.8826298426666075]}], \"log_loss\": [{\"categories\": [\"0\", \"1\", \"2\", \"3\", \"4\", \"5\", \"6\", \"7\", \"8\", \"9\", \"10\", \"11\", \"12\", \"13\", \"14\", \"15\", \"16\", \"17\", \"18\", \"19\", \"20\", \"21\", \"22\", \"23\", \"24\", \"25\", \"26\", \"27\", \"28\", \"29\", \"30\", \"31\", \"32\", \"36\", \"37\"], \"mode\": \"markers\", \"name\": \"log_loss\", \"stepped\": false, \"type\": \"scatter\", \"data\": [0.45849672220591664, 0.4173490000249826, 0.5062437194165563, 0.38502763433570936, 0.5180851246446826, 0.4119753896166961, 0.39279598864864534, 0.5417252924799554, 0.348857963523934, 0.4811278984168793, 0.389681610958702, 0.37720906405341403, 0.4092490724897962, 0.37867442036328347, 0.3902167958227382, 0.37324253260317475, 0.38873864888730375, 0.4085894793643835, 0.3751107619342073, 0.37877247541011255, 0.3646203377424329, 0.35360628126499943, 0.48961554993816403, 0.45200560627118963, 0.4299522871820625, 0.6682139041691524, 0.37750462811479635, 0.47382234263230155, 0.365201101386751, 0.41999462874363847, 0.624398600481709, 0.35476980146131065, 0.42244538912250745, 0.360638243483691, 0.3594175566716272]}, {\"categories\": [\"0\", \"1\", \"2\", \"3\", \"4\", \"5\", \"6\", \"7\", \"8\", \"9\", \"10\", \"11\", \"12\", \"13\", \"14\", \"15\", \"16\", \"17\", \"18\", \"19\", \"20\", \"21\", \"22\", \"23\", \"24\", \"25\", \"26\", \"27\", \"28\", \"29\", \"30\", \"31\", \"32\", \"36\", \"37\"], \"mode\": \"lines\", \"name\": \"log_loss_min\", \"stepped\": true, \"type\": \"scatter\", \"data\": [0.45849672220591664, 0.4173490000249826, 0.4173490000249826, 0.38502763433570936, 0.38502763433570936, 0.38502763433570936, 0.38502763433570936, 0.38502763433570936, 0.348857963523934, 0.348857963523934, 0.348857963523934, 0.348857963523934, 0.348857963523934, 0.348857963523934, 0.348857963523934, 0.348857963523934, 0.348857963523934, 0.348857963523934, 0.348857963523934, 0.348857963523934, 0.348857963523934, 0.348857963523934, 0.348857963523934, 0.348857963523934, 0.348857963523934, 0.348857963523934, 0.348857963523934, 0.348857963523934, 0.348857963523934, 0.348857963523934, 0.348857963523934, 0.348857963523934, 0.348857963523934, 0.348857963523934, 0.348857963523934]}], \"recall_score_micro\": [{\"categories\": [\"0\", \"1\", \"2\", \"3\", \"4\", \"5\", \"6\", \"7\", \"8\", \"9\", \"10\", \"11\", \"12\", \"13\", \"14\", \"15\", \"16\", \"17\", \"18\", \"19\", \"20\", \"21\", \"22\", \"23\", \"24\", \"25\", \"26\", \"27\", \"28\", \"29\", \"30\", \"31\", \"32\", \"36\", \"37\"], \"mode\": \"markers\", \"name\": \"recall_score_micro\", \"stepped\": false, \"type\": \"scatter\", \"data\": [0.8347474747474747, 0.83010101010101, 0.848080808080808, 0.866060606060606, 0.8570707070707071, 0.8077777777777777, 0.8345454545454544, 0.7234343434343435, 0.8480808080808082, 0.7680808080808081, 0.8171717171717171, 0.8528282828282828, 0.8171717171717171, 0.8526262626262626, 0.8570707070707071, 0.8435353535353535, 0.8436363636363635, 0.8436363636363635, 0.8434343434343434, 0.8390909090909091, 0.8615151515151516, 0.8659595959595959, 0.7944444444444445, 0.838989898989899, 0.8037373737373738, 0.6338383838383839, 0.8348484848484847, 0.7725252525252525, 0.8524242424242423, 0.8438383838383838, 0.6878787878787879, 0.8525252525252526, 0.8260606060606059, 0.8838383838383839, 0.8659595959595959]}, {\"categories\": [\"0\", \"1\", \"2\", \"3\", \"4\", \"5\", \"6\", \"7\", \"8\", \"9\", \"10\", \"11\", \"12\", \"13\", \"14\", \"15\", \"16\", \"17\", \"18\", \"19\", \"20\", \"21\", \"22\", \"23\", \"24\", \"25\", \"26\", \"27\", \"28\", \"29\", \"30\", \"31\", \"32\", \"36\", \"37\"], \"mode\": \"lines\", \"name\": \"recall_score_micro_max\", \"stepped\": true, \"type\": \"scatter\", \"data\": [0.8347474747474747, 0.8347474747474747, 0.848080808080808, 0.866060606060606, 0.866060606060606, 0.866060606060606, 0.866060606060606, 0.866060606060606, 0.866060606060606, 0.866060606060606, 0.866060606060606, 0.866060606060606, 0.866060606060606, 0.866060606060606, 0.866060606060606, 0.866060606060606, 0.866060606060606, 0.866060606060606, 0.866060606060606, 0.866060606060606, 0.866060606060606, 0.866060606060606, 0.866060606060606, 0.866060606060606, 0.866060606060606, 0.866060606060606, 0.866060606060606, 0.866060606060606, 0.866060606060606, 0.866060606060606, 0.866060606060606, 0.866060606060606, 0.866060606060606, 0.8838383838383839, 0.8838383838383839]}], \"average_precision_score_micro\": [{\"categories\": [\"0\", \"1\", \"2\", \"3\", \"4\", \"5\", \"6\", \"7\", \"8\", \"9\", \"10\", \"11\", \"12\", \"13\", \"14\", \"15\", \"16\", \"17\", \"18\", \"19\", \"20\", \"21\", \"22\", \"23\", \"24\", \"25\", \"26\", \"27\", \"28\", \"29\", \"30\", \"31\", \"32\", \"36\", \"37\"], \"mode\": \"markers\", \"name\": \"average_precision_score_micro\", \"stepped\": false, \"type\": \"scatter\", \"data\": [0.9125943896818152, 0.9185875865131787, 0.9151359334226219, 0.917345092282259, 0.9143454921515414, 0.8927643813189924, 0.9161679793831805, 0.8143993115743827, 0.9315909519425694, 0.8599280886949604, 0.9202334083263771, 0.9144513744454551, 0.9153718873849114, 0.9249752373255058, 0.9160991108985364, 0.9290109604820866, 0.9174479558968208, 0.9097353644654345, 0.9182334110018011, 0.9247750606156433, 0.9270540058236509, 0.9277364548421042, 0.9022024773486732, 0.914100267862823, 0.9051645641501173, 0.6516359360612072, 0.9346120942163212, 0.8907588038679026, 0.9246395408414166, 0.9017275262103412, 0.7691607082983214, 0.9267992331935089, 0.9066970235344742, 0.9300535133098856, 0.9254211367269225]}, {\"categories\": [\"0\", \"1\", \"2\", \"3\", \"4\", \"5\", \"6\", \"7\", \"8\", \"9\", \"10\", \"11\", \"12\", \"13\", \"14\", \"15\", \"16\", \"17\", \"18\", \"19\", \"20\", \"21\", \"22\", \"23\", \"24\", \"25\", \"26\", \"27\", \"28\", \"29\", \"30\", \"31\", \"32\", \"36\", \"37\"], \"mode\": \"lines\", \"name\": \"average_precision_score_micro_max\", \"stepped\": true, \"type\": \"scatter\", \"data\": [0.9125943896818152, 0.9185875865131787, 0.9185875865131787, 0.9185875865131787, 0.9185875865131787, 0.9185875865131787, 0.9185875865131787, 0.9185875865131787, 0.9315909519425694, 0.9315909519425694, 0.9315909519425694, 0.9315909519425694, 0.9315909519425694, 0.9315909519425694, 0.9315909519425694, 0.9315909519425694, 0.9315909519425694, 0.9315909519425694, 0.9315909519425694, 0.9315909519425694, 0.9315909519425694, 0.9315909519425694, 0.9315909519425694, 0.9315909519425694, 0.9315909519425694, 0.9315909519425694, 0.9346120942163212, 0.9346120942163212, 0.9346120942163212, 0.9346120942163212, 0.9346120942163212, 0.9346120942163212, 0.9346120942163212, 0.9346120942163212, 0.9346120942163212]}], \"AUC_micro\": [{\"categories\": [\"0\", \"1\", \"2\", \"3\", \"4\", \"5\", \"6\", \"7\", \"8\", \"9\", \"10\", \"11\", \"12\", \"13\", \"14\", \"15\", \"16\", \"17\", \"18\", \"19\", \"20\", \"21\", \"22\", \"23\", \"24\", \"25\", \"26\", \"27\", \"28\", \"29\", \"30\", \"31\", \"32\", \"36\", \"37\"], \"mode\": \"markers\", \"name\": \"AUC_micro\", \"stepped\": false, \"type\": \"scatter\", \"data\": [0.9107785940210181, 0.9141173349658198, 0.9193280277522702, 0.9170847872666054, 0.9217018161412099, 0.8937228344046526, 0.9124837261503927, 0.819297418630752, 0.9291660034690338, 0.8624663809815324, 0.9205869809203142, 0.9146201918171615, 0.9104584226099378, 0.9227507907356391, 0.914866595245383, 0.9254799000102031, 0.9160211202938475, 0.9080222426283031, 0.9194767880828486, 0.9228779206203448, 0.9240540250994798, 0.9249508723599632, 0.902527701254974, 0.9149335782063055, 0.9005943781246811, 0.6516728905213754, 0.9307541577390062, 0.8833785328027751, 0.9200852464034283, 0.8995919804101623, 0.7792890521375369, 0.924228854198551, 0.9053476175900418, 0.9294384246505458, 0.9229857667584941]}, {\"categories\": [\"0\", \"1\", \"2\", \"3\", \"4\", \"5\", \"6\", \"7\", \"8\", \"9\", \"10\", \"11\", \"12\", \"13\", \"14\", \"15\", \"16\", \"17\", \"18\", \"19\", \"20\", \"21\", \"22\", \"23\", \"24\", \"25\", \"26\", \"27\", \"28\", \"29\", \"30\", \"31\", \"32\", \"36\", \"37\"], \"mode\": \"lines\", \"name\": \"AUC_micro_max\", \"stepped\": true, \"type\": \"scatter\", \"data\": [0.9107785940210181, 0.9141173349658198, 0.9193280277522702, 0.9193280277522702, 0.9217018161412099, 0.9217018161412099, 0.9217018161412099, 0.9217018161412099, 0.9291660034690338, 0.9291660034690338, 0.9291660034690338, 0.9291660034690338, 0.9291660034690338, 0.9291660034690338, 0.9291660034690338, 0.9291660034690338, 0.9291660034690338, 0.9291660034690338, 0.9291660034690338, 0.9291660034690338, 0.9291660034690338, 0.9291660034690338, 0.9291660034690338, 0.9291660034690338, 0.9291660034690338, 0.9291660034690338, 0.9307541577390062, 0.9307541577390062, 0.9307541577390062, 0.9307541577390062, 0.9307541577390062, 0.9307541577390062, 0.9307541577390062, 0.9307541577390062, 0.9307541577390062]}], \"f1_score_micro\": [{\"categories\": [\"0\", \"1\", \"2\", \"3\", \"4\", \"5\", \"6\", \"7\", \"8\", \"9\", \"10\", \"11\", \"12\", \"13\", \"14\", \"15\", \"16\", \"17\", \"18\", \"19\", \"20\", \"21\", \"22\", \"23\", \"24\", \"25\", \"26\", \"27\", \"28\", \"29\", \"30\", \"31\", \"32\", \"36\", \"37\"], \"mode\": \"markers\", \"name\": \"f1_score_micro\", \"stepped\": false, \"type\": \"scatter\", \"data\": [0.8347474747474747, 0.8301010101010101, 0.848080808080808, 0.866060606060606, 0.8570707070707071, 0.8077777777777777, 0.8345454545454544, 0.7234343434343435, 0.8480808080808082, 0.7680808080808081, 0.8171717171717171, 0.8528282828282828, 0.8171717171717171, 0.8526262626262626, 0.8570707070707071, 0.8435353535353535, 0.8436363636363635, 0.8436363636363635, 0.8434343434343434, 0.8390909090909092, 0.8615151515151516, 0.8659595959595959, 0.7944444444444445, 0.838989898989899, 0.8037373737373738, 0.6338383838383839, 0.8348484848484847, 0.7725252525252525, 0.8524242424242425, 0.8438383838383838, 0.6878787878787879, 0.8525252525252526, 0.8260606060606059, 0.8838383838383839, 0.8659595959595959]}, {\"categories\": [\"0\", \"1\", \"2\", \"3\", \"4\", \"5\", \"6\", \"7\", \"8\", \"9\", \"10\", \"11\", \"12\", \"13\", \"14\", \"15\", \"16\", \"17\", \"18\", \"19\", \"20\", \"21\", \"22\", \"23\", \"24\", \"25\", \"26\", \"27\", \"28\", \"29\", \"30\", \"31\", \"32\", \"36\", \"37\"], \"mode\": \"lines\", \"name\": \"f1_score_micro_max\", \"stepped\": true, \"type\": \"scatter\", \"data\": [0.8347474747474747, 0.8347474747474747, 0.848080808080808, 0.866060606060606, 0.866060606060606, 0.866060606060606, 0.866060606060606, 0.866060606060606, 0.866060606060606, 0.866060606060606, 0.866060606060606, 0.866060606060606, 0.866060606060606, 0.866060606060606, 0.866060606060606, 0.866060606060606, 0.866060606060606, 0.866060606060606, 0.866060606060606, 0.866060606060606, 0.866060606060606, 0.866060606060606, 0.866060606060606, 0.866060606060606, 0.866060606060606, 0.866060606060606, 0.866060606060606, 0.866060606060606, 0.866060606060606, 0.866060606060606, 0.866060606060606, 0.866060606060606, 0.866060606060606, 0.8838383838383839, 0.8838383838383839]}], \"recall_score_weighted\": [{\"categories\": [\"0\", \"1\", \"2\", \"3\", \"4\", \"5\", \"6\", \"7\", \"8\", \"9\", \"10\", \"11\", \"12\", \"13\", \"14\", \"15\", \"16\", \"17\", \"18\", \"19\", \"20\", \"21\", \"22\", \"23\", \"24\", \"25\", \"26\", \"27\", \"28\", \"29\", \"30\", \"31\", \"32\", \"36\", \"37\"], \"mode\": \"markers\", \"name\": \"recall_score_weighted\", \"stepped\": false, \"type\": \"scatter\", \"data\": [0.8347474747474747, 0.83010101010101, 0.848080808080808, 0.866060606060606, 0.8570707070707071, 0.8077777777777777, 0.8345454545454544, 0.7234343434343435, 0.8480808080808082, 0.7680808080808081, 0.8171717171717171, 0.8528282828282828, 0.8171717171717171, 0.8526262626262626, 0.8570707070707071, 0.8435353535353535, 0.8436363636363635, 0.8436363636363635, 0.8434343434343434, 0.8390909090909091, 0.8615151515151516, 0.8659595959595959, 0.7944444444444445, 0.838989898989899, 0.8037373737373738, 0.6338383838383839, 0.8348484848484847, 0.7725252525252525, 0.8524242424242423, 0.8438383838383838, 0.6878787878787879, 0.8525252525252526, 0.8260606060606059, 0.8838383838383839, 0.8659595959595959]}, {\"categories\": [\"0\", \"1\", \"2\", \"3\", \"4\", \"5\", \"6\", \"7\", \"8\", \"9\", \"10\", \"11\", \"12\", \"13\", \"14\", \"15\", \"16\", \"17\", \"18\", \"19\", \"20\", \"21\", \"22\", \"23\", \"24\", \"25\", \"26\", \"27\", \"28\", \"29\", \"30\", \"31\", \"32\", \"36\", \"37\"], \"mode\": \"lines\", \"name\": \"recall_score_weighted_max\", \"stepped\": true, \"type\": \"scatter\", \"data\": [0.8347474747474747, 0.8347474747474747, 0.848080808080808, 0.866060606060606, 0.866060606060606, 0.866060606060606, 0.866060606060606, 0.866060606060606, 0.866060606060606, 0.866060606060606, 0.866060606060606, 0.866060606060606, 0.866060606060606, 0.866060606060606, 0.866060606060606, 0.866060606060606, 0.866060606060606, 0.866060606060606, 0.866060606060606, 0.866060606060606, 0.866060606060606, 0.866060606060606, 0.866060606060606, 0.866060606060606, 0.866060606060606, 0.866060606060606, 0.866060606060606, 0.866060606060606, 0.866060606060606, 0.866060606060606, 0.866060606060606, 0.866060606060606, 0.866060606060606, 0.8838383838383839, 0.8838383838383839]}], \"average_precision_score_weighted\": [{\"categories\": [\"0\", \"1\", \"2\", \"3\", \"4\", \"5\", \"6\", \"7\", \"8\", \"9\", \"10\", \"11\", \"12\", \"13\", \"14\", \"15\", \"16\", \"17\", \"18\", \"19\", \"20\", \"21\", \"22\", \"23\", \"24\", \"25\", \"26\", \"27\", \"28\", \"29\", \"30\", \"31\", \"32\", \"36\", \"37\"], \"mode\": \"markers\", \"name\": \"average_precision_score_weighted\", \"stepped\": false, \"type\": \"scatter\", \"data\": [0.9115510503165034, 0.9122144311303849, 0.9099269172360674, 0.9205333811665604, 0.9083487580823567, 0.8907834987518125, 0.9120548366721793, 0.8053111002927871, 0.934093035986528, 0.8700744319892306, 0.9251876954845631, 0.9088514753293812, 0.9210293627137555, 0.9310398370076027, 0.9253670003195357, 0.9319531516468086, 0.9248922093044474, 0.9158380236587329, 0.918958845280691, 0.9289781983973742, 0.922027763720606, 0.9275881094185892, 0.9089092501722167, 0.912876235640897, 0.9139565952360963, 0.6757695431406678, 0.9357497092455536, 0.8936501295380177, 0.9183932005408181, 0.8937647604479695, 0.751410675414432, 0.9257228154467974, 0.9103621291342904, 0.9305446031612341, 0.924874037490517]}, {\"categories\": [\"0\", \"1\", \"2\", \"3\", \"4\", \"5\", \"6\", \"7\", \"8\", \"9\", \"10\", \"11\", \"12\", \"13\", \"14\", \"15\", \"16\", \"17\", \"18\", \"19\", \"20\", \"21\", \"22\", \"23\", \"24\", \"25\", \"26\", \"27\", \"28\", \"29\", \"30\", \"31\", \"32\", \"36\", \"37\"], \"mode\": \"lines\", \"name\": \"average_precision_score_weighted_max\", \"stepped\": true, \"type\": \"scatter\", \"data\": [0.9115510503165034, 0.9122144311303849, 0.9122144311303849, 0.9205333811665604, 0.9205333811665604, 0.9205333811665604, 0.9205333811665604, 0.9205333811665604, 0.934093035986528, 0.934093035986528, 0.934093035986528, 0.934093035986528, 0.934093035986528, 0.934093035986528, 0.934093035986528, 0.934093035986528, 0.934093035986528, 0.934093035986528, 0.934093035986528, 0.934093035986528, 0.934093035986528, 0.934093035986528, 0.934093035986528, 0.934093035986528, 0.934093035986528, 0.934093035986528, 0.9357497092455536, 0.9357497092455536, 0.9357497092455536, 0.9357497092455536, 0.9357497092455536, 0.9357497092455536, 0.9357497092455536, 0.9357497092455536, 0.9357497092455536]}], \"matthews_correlation\": [{\"categories\": [\"0\", \"1\", \"2\", \"3\", \"4\", \"5\", \"6\", \"7\", \"8\", \"9\", \"10\", \"11\", \"12\", \"13\", \"14\", \"15\", \"16\", \"17\", \"18\", \"19\", \"20\", \"21\", \"22\", \"23\", \"24\", \"25\", \"26\", \"27\", \"28\", \"29\", \"30\", \"31\", \"32\", \"36\", \"37\"], \"mode\": \"markers\", \"name\": \"matthews_correlation\", \"stepped\": false, \"type\": \"scatter\", \"data\": [0.6085785128697768, 0.5988981844275643, 0.6279101291122401, 0.6688323188122369, 0.6566874427231604, 0.5345595120445699, 0.6058050006729429, 0.2818520597709776, 0.6461257323211086, 0.41173484298957685, 0.5525113274180307, 0.6481361166655175, 0.5574206553460952, 0.6394826931871819, 0.6520356922175775, 0.6195699676524626, 0.629750027564738, 0.6153141204413185, 0.6208291983672083, 0.6093255209241385, 0.6693582896215565, 0.6851543089898652, 0.5074155389099667, 0.609853708970838, 0.5201943666008615, 0.24879102233174008, 0.5995477744881835, 0.42871838428557296, 0.6502500562999033, 0.6291507661622624, 0.0, 0.6587965792195047, 0.574092594629742, 0.7210721129707218, 0.6768445373726493]}, {\"categories\": [\"0\", \"1\", \"2\", \"3\", \"4\", \"5\", \"6\", \"7\", \"8\", \"9\", \"10\", \"11\", \"12\", \"13\", \"14\", \"15\", \"16\", \"17\", \"18\", \"19\", \"20\", \"21\", \"22\", \"23\", \"24\", \"25\", \"26\", \"27\", \"28\", \"29\", \"30\", \"31\", \"32\", \"36\", \"37\"], \"mode\": \"lines\", \"name\": \"matthews_correlation_max\", \"stepped\": true, \"type\": \"scatter\", \"data\": [0.6085785128697768, 0.6085785128697768, 0.6279101291122401, 0.6688323188122369, 0.6688323188122369, 0.6688323188122369, 0.6688323188122369, 0.6688323188122369, 0.6688323188122369, 0.6688323188122369, 0.6688323188122369, 0.6688323188122369, 0.6688323188122369, 0.6688323188122369, 0.6688323188122369, 0.6688323188122369, 0.6688323188122369, 0.6688323188122369, 0.6688323188122369, 0.6688323188122369, 0.6693582896215565, 0.6851543089898652, 0.6851543089898652, 0.6851543089898652, 0.6851543089898652, 0.6851543089898652, 0.6851543089898652, 0.6851543089898652, 0.6851543089898652, 0.6851543089898652, 0.6851543089898652, 0.6851543089898652, 0.6851543089898652, 0.7210721129707218, 0.7210721129707218]}], \"weighted_accuracy\": [{\"categories\": [\"0\", \"1\", \"2\", \"3\", \"4\", \"5\", \"6\", \"7\", \"8\", \"9\", \"10\", \"11\", \"12\", \"13\", \"14\", \"15\", \"16\", \"17\", \"18\", \"19\", \"20\", \"21\", \"22\", \"23\", \"24\", \"25\", \"26\", \"27\", \"28\", \"29\", \"30\", \"31\", \"32\", \"36\", \"37\"], \"mode\": \"markers\", \"name\": \"weighted_accuracy\", \"stepped\": false, \"type\": \"scatter\", \"data\": [0.8591105594414078, 0.8543206441486972, 0.8833098042171017, 0.9045758539259363, 0.8844603012828415, 0.8471603136327331, 0.8621003546236257, 0.8015285160928471, 0.872055946565726, 0.8474175581864193, 0.8712921923542171, 0.8845248708101607, 0.8757724380292794, 0.9020417250403691, 0.9027640338260806, 0.8824984631154026, 0.8768095690658892, 0.8953363245442093, 0.8801388150860863, 0.879329777188096, 0.8835247753105107, 0.8885243240141166, 0.8495920916385223, 0.8723674575216253, 0.8683447287474081, 0.6254714261375577, 0.8823885517864708, 0.8394294239122161, 0.8756909549038591, 0.8658462854530675, 0.8173904459700413, 0.8711204205933951, 0.8766338785980178, 0.9136373186756888, 0.892345980065072]}, {\"categories\": [\"0\", \"1\", \"2\", \"3\", \"4\", \"5\", \"6\", \"7\", \"8\", \"9\", \"10\", \"11\", \"12\", \"13\", \"14\", \"15\", \"16\", \"17\", \"18\", \"19\", \"20\", \"21\", \"22\", \"23\", \"24\", \"25\", \"26\", \"27\", \"28\", \"29\", \"30\", \"31\", \"32\", \"36\", \"37\"], \"mode\": \"lines\", \"name\": \"weighted_accuracy_max\", \"stepped\": true, \"type\": \"scatter\", \"data\": [0.8591105594414078, 0.8591105594414078, 0.8833098042171017, 0.9045758539259363, 0.9045758539259363, 0.9045758539259363, 0.9045758539259363, 0.9045758539259363, 0.9045758539259363, 0.9045758539259363, 0.9045758539259363, 0.9045758539259363, 0.9045758539259363, 0.9045758539259363, 0.9045758539259363, 0.9045758539259363, 0.9045758539259363, 0.9045758539259363, 0.9045758539259363, 0.9045758539259363, 0.9045758539259363, 0.9045758539259363, 0.9045758539259363, 0.9045758539259363, 0.9045758539259363, 0.9045758539259363, 0.9045758539259363, 0.9045758539259363, 0.9045758539259363, 0.9045758539259363, 0.9045758539259363, 0.9045758539259363, 0.9045758539259363, 0.9136373186756888, 0.9136373186756888]}], \"AUC_macro\": [{\"categories\": [\"0\", \"1\", \"2\", \"3\", \"4\", \"5\", \"6\", \"7\", \"8\", \"9\", \"10\", \"11\", \"12\", \"13\", \"14\", \"15\", \"16\", \"17\", \"18\", \"19\", \"20\", \"21\", \"22\", \"23\", \"24\", \"25\", \"26\", \"27\", \"28\", \"29\", \"30\", \"31\", \"32\", \"36\", \"37\"], \"mode\": \"markers\", \"name\": \"AUC_macro\", \"stepped\": false, \"type\": \"scatter\", \"data\": [0.890215601392072, 0.8973908836261778, 0.902420592479416, 0.8996698073168663, 0.8948684322213734, 0.8683218742042271, 0.899436889907478, 0.7805729564553093, 0.9214978354978356, 0.8618324420677362, 0.9136061454884985, 0.8885682030387911, 0.9154482641541467, 0.9133654188948306, 0.9057996774467363, 0.9244943553178846, 0.9125106527459469, 0.8943544690603513, 0.9016392496392497, 0.9188673287496817, 0.9048943213649097, 0.9153119429590018, 0.9011958237840592, 0.9013756896698073, 0.9027753161870808, 0.6518029029793736, 0.9222388591800357, 0.8815148119854002, 0.9065357779475427, 0.8718015448603683, 0.704988965283083, 0.9114784823020117, 0.8948990747814278, 0.914271963330787, 0.9074382480264834]}, {\"categories\": [\"0\", \"1\", \"2\", \"3\", \"4\", \"5\", \"6\", \"7\", \"8\", \"9\", \"10\", \"11\", \"12\", \"13\", \"14\", \"15\", \"16\", \"17\", \"18\", \"19\", \"20\", \"21\", \"22\", \"23\", \"24\", \"25\", \"26\", \"27\", \"28\", \"29\", \"30\", \"31\", \"32\", \"36\", \"37\"], \"mode\": \"lines\", \"name\": \"AUC_macro_max\", \"stepped\": true, \"type\": \"scatter\", \"data\": [0.890215601392072, 0.8973908836261778, 0.902420592479416, 0.902420592479416, 0.902420592479416, 0.902420592479416, 0.902420592479416, 0.902420592479416, 0.9214978354978356, 0.9214978354978356, 0.9214978354978356, 0.9214978354978356, 0.9214978354978356, 0.9214978354978356, 0.9214978354978356, 0.9244943553178846, 0.9244943553178846, 0.9244943553178846, 0.9244943553178846, 0.9244943553178846, 0.9244943553178846, 0.9244943553178846, 0.9244943553178846, 0.9244943553178846, 0.9244943553178846, 0.9244943553178846, 0.9244943553178846, 0.9244943553178846, 0.9244943553178846, 0.9244943553178846, 0.9244943553178846, 0.9244943553178846, 0.9244943553178846, 0.9244943553178846, 0.9244943553178846]}], \"norm_macro_recall\": [{\"categories\": [\"0\", \"1\", \"2\", \"3\", \"4\", \"5\", \"6\", \"7\", \"8\", \"9\", \"10\", \"11\", \"12\", \"13\", \"14\", \"15\", \"16\", \"17\", \"18\", \"19\", \"20\", \"21\", \"22\", \"23\", \"24\", \"25\", \"26\", \"27\", \"28\", \"29\", \"30\", \"31\", \"32\", \"36\", \"37\"], \"mode\": \"markers\", \"name\": \"norm_macro_recall\", \"stepped\": false, \"type\": \"scatter\", \"data\": [0.5997682709447416, 0.5897147950089127, 0.5911662846956964, 0.6172167048637637, 0.6344461420932008, 0.5001018589253883, 0.5914514896867838, 0.21555895085306848, 0.630916730328495, 0.308637636872931, 0.4804609116373822, 0.6150038197097021, 0.4659511077158136, 0.5623402088107972, 0.5790348866819455, 0.5744716068245481, 0.595790679908327, 0.5339368474662594, 0.5808301502419149, 0.562706900942195, 0.6600789406671759, 0.6690399796282149, 0.43387827858416095, 0.5798777692895339, 0.4208530685001273, 0.26310924369747896, 0.5337942449707155, 0.3546371275783041, 0.6388439011968423, 0.6215609880315763, 0.0, 0.6565495289024701, 0.5079118920295391, 0.6804965622612682, 0.6549223325693913]}, {\"categories\": [\"0\", \"1\", \"2\", \"3\", \"4\", \"5\", \"6\", \"7\", \"8\", \"9\", \"10\", \"11\", \"12\", \"13\", \"14\", \"15\", \"16\", \"17\", \"18\", \"19\", \"20\", \"21\", \"22\", \"23\", \"24\", \"25\", \"26\", \"27\", \"28\", \"29\", \"30\", \"31\", \"32\", \"36\", \"37\"], \"mode\": \"lines\", \"name\": \"norm_macro_recall_max\", \"stepped\": true, \"type\": \"scatter\", \"data\": [0.5997682709447416, 0.5997682709447416, 0.5997682709447416, 0.6172167048637637, 0.6344461420932008, 0.6344461420932008, 0.6344461420932008, 0.6344461420932008, 0.6344461420932008, 0.6344461420932008, 0.6344461420932008, 0.6344461420932008, 0.6344461420932008, 0.6344461420932008, 0.6344461420932008, 0.6344461420932008, 0.6344461420932008, 0.6344461420932008, 0.6344461420932008, 0.6344461420932008, 0.6600789406671759, 0.6690399796282149, 0.6690399796282149, 0.6690399796282149, 0.6690399796282149, 0.6690399796282149, 0.6690399796282149, 0.6690399796282149, 0.6690399796282149, 0.6690399796282149, 0.6690399796282149, 0.6690399796282149, 0.6690399796282149, 0.6804965622612682, 0.6804965622612682]}]}, \"metricName\": null, \"primaryMetricName\": \"accuracy\", \"showLegend\": false}, \"run_metrics\": [{\"name\": \"experiment_status\", \"run_id\": \"AutoML_d3f92056-df67-4e62-a896-ed303c936f5e\", \"categories\": [0, 1, 2, 3, 4, 5, 6, 7, 8, 9, 10, 11, 12, 13], \"series\": [{\"data\": [\"DatasetEvaluation\", \"FeaturesGeneration\", \"DatasetFeaturization\", \"DatasetFeaturizationCompleted\", \"DatasetCrossValidationSplit\", \"ModelSelection\", \"BestRunExplainModel\", \"ModelExplanationDataSetSetup\", \"PickSurrogateModel\", \"EngineeredFeatureExplanations\", \"EngineeredFeatureExplanations\", \"RawFeaturesExplanations\", \"RawFeaturesExplanations\", \"BestRunExplainModel\"]}]}, {\"name\": \"experiment_status_description\", \"run_id\": \"AutoML_d3f92056-df67-4e62-a896-ed303c936f5e\", \"categories\": [0, 1, 2, 3, 4, 5, 6, 7, 8, 9, 10, 11, 12, 13], \"series\": [{\"data\": [\"Gathering dataset statistics.\", \"Generating features for the dataset.\", \"Beginning to fit featurizers and featurize the dataset.\", \"Completed fit featurizers and featurizing the dataset.\", \"Generating individually featurized CV splits.\", \"Beginning model selection.\", \"Best run model explanations started\", \"Model explanations data setup completed\", \"Choosing LightGBM as the surrogate model for explanations\", \"Computation of engineered features started\", \"Computation of engineered features completed\", \"Computation of raw features started\", \"Computation of raw features completed\", \"Best run model explanations completed\"]}]}, {\"name\": \"AUC_micro\", \"run_id\": \"AutoML_d3f92056-df67-4e62-a896-ed303c936f5e\", \"categories\": [0], \"series\": [{\"data\": [0.9294384246505458]}]}, {\"name\": \"balanced_accuracy\", \"run_id\": \"AutoML_d3f92056-df67-4e62-a896-ed303c936f5e\", \"categories\": [0], \"series\": [{\"data\": [0.840248281130634]}]}, {\"name\": \"f1_score_micro\", \"run_id\": \"AutoML_d3f92056-df67-4e62-a896-ed303c936f5e\", \"categories\": [0], \"series\": [{\"data\": [0.8838383838383839]}]}, {\"name\": \"average_precision_score_macro\", \"run_id\": \"AutoML_d3f92056-df67-4e62-a896-ed303c936f5e\", \"categories\": [0], \"series\": [{\"data\": [0.9119480571922013]}]}, {\"name\": \"AUC_weighted\", \"run_id\": \"AutoML_d3f92056-df67-4e62-a896-ed303c936f5e\", \"categories\": [0], \"series\": [{\"data\": [0.914271963330787]}]}, {\"name\": \"recall_score_macro\", \"run_id\": \"AutoML_d3f92056-df67-4e62-a896-ed303c936f5e\", \"categories\": [0], \"series\": [{\"data\": [0.840248281130634]}]}, {\"name\": \"f1_score_weighted\", \"run_id\": \"AutoML_d3f92056-df67-4e62-a896-ed303c936f5e\", \"categories\": [0], \"series\": [{\"data\": [0.8810995229208679]}]}, {\"name\": \"precision_score_weighted\", \"run_id\": \"AutoML_d3f92056-df67-4e62-a896-ed303c936f5e\", \"categories\": [0], \"series\": [{\"data\": [0.8868347718347719]}]}, {\"name\": \"recall_score_weighted\", \"run_id\": \"AutoML_d3f92056-df67-4e62-a896-ed303c936f5e\", \"categories\": [0], \"series\": [{\"data\": [0.8838383838383839]}]}, {\"name\": \"AUC_macro\", \"run_id\": \"AutoML_d3f92056-df67-4e62-a896-ed303c936f5e\", \"categories\": [0], \"series\": [{\"data\": [0.914271963330787]}]}, {\"name\": \"matthews_correlation\", \"run_id\": \"AutoML_d3f92056-df67-4e62-a896-ed303c936f5e\", \"categories\": [0], \"series\": [{\"data\": [0.7210721129707218]}]}, {\"name\": \"average_precision_score_weighted\", \"run_id\": \"AutoML_d3f92056-df67-4e62-a896-ed303c936f5e\", \"categories\": [0], \"series\": [{\"data\": [0.9305446031612341]}]}, {\"name\": \"recall_score_micro\", \"run_id\": \"AutoML_d3f92056-df67-4e62-a896-ed303c936f5e\", \"categories\": [0], \"series\": [{\"data\": [0.8838383838383839]}]}, {\"name\": \"weighted_accuracy\", \"run_id\": \"AutoML_d3f92056-df67-4e62-a896-ed303c936f5e\", \"categories\": [0], \"series\": [{\"data\": [0.9136373186756888]}]}, {\"name\": \"log_loss\", \"run_id\": \"AutoML_d3f92056-df67-4e62-a896-ed303c936f5e\", \"categories\": [0], \"series\": [{\"data\": [0.360638243483691]}]}, {\"name\": \"norm_macro_recall\", \"run_id\": \"AutoML_d3f92056-df67-4e62-a896-ed303c936f5e\", \"categories\": [0], \"series\": [{\"data\": [0.6804965622612682]}]}, {\"name\": \"f1_score_macro\", \"run_id\": \"AutoML_d3f92056-df67-4e62-a896-ed303c936f5e\", \"categories\": [0], \"series\": [{\"data\": [0.8556117907501154]}]}, {\"name\": \"precision_score_macro\", \"run_id\": \"AutoML_d3f92056-df67-4e62-a896-ed303c936f5e\", \"categories\": [0], \"series\": [{\"data\": [0.8826298426666075]}]}, {\"name\": \"accuracy\", \"run_id\": \"AutoML_d3f92056-df67-4e62-a896-ed303c936f5e\", \"categories\": [0], \"series\": [{\"data\": [0.8838383838383839]}]}, {\"name\": \"average_precision_score_micro\", \"run_id\": \"AutoML_d3f92056-df67-4e62-a896-ed303c936f5e\", \"categories\": [0], \"series\": [{\"data\": [0.9300535133098856]}]}, {\"name\": \"precision_score_micro\", \"run_id\": \"AutoML_d3f92056-df67-4e62-a896-ed303c936f5e\", \"categories\": [0], \"series\": [{\"data\": [0.8838383838383839]}]}], \"run_logs\": \"\\nRun is completed.\", \"graph\": {}, \"widget_settings\": {\"childWidgetDisplay\": \"popup\", \"send_telemetry\": false, \"log_level\": \"INFO\", \"sdk_version\": \"1.19.0\"}, \"loading\": false}"
     },
     "metadata": {},
     "output_type": "display_data"
    }
   ],
   "source": [
    "RunDetails(run).show()"
   ]
  },
  {
   "cell_type": "code",
   "execution_count": 10,
   "metadata": {},
   "outputs": [],
   "source": [
    "status = run.wait_for_completion()"
   ]
  },
  {
   "cell_type": "markdown",
   "metadata": {},
   "source": [
    "## Best Model"
   ]
  },
  {
   "cell_type": "code",
   "execution_count": 11,
   "metadata": {
    "gather": {
     "logged": 1598431425670
    },
    "jupyter": {
     "outputs_hidden": false,
     "source_hidden": false
    },
    "nteract": {
     "transient": {
      "deleting": false
     }
    }
   },
   "outputs": [
    {
     "name": "stderr",
     "output_type": "stream",
     "text": [
      "WARNING:root:The version of the SDK does not match the version the model was trained on.\n",
      "WARNING:root:The consistency in the result may not be guaranteed.\n",
      "WARNING:root:Package:azureml-automl-core, training version:1.20.0, current version:1.19.0\n",
      "Package:azureml-automl-runtime, training version:1.20.0, current version:1.19.0\n",
      "Package:azureml-core, training version:1.20.0, current version:1.19.0\n",
      "Package:azureml-dataprep, training version:2.7.2, current version:2.6.1\n",
      "Package:azureml-dataprep-native, training version:27.0.0, current version:26.0.0\n",
      "Package:azureml-dataprep-rslex, training version:1.5.0, current version:1.4.0\n",
      "Package:azureml-dataset-runtime, training version:1.20.0, current version:1.19.0.post1\n",
      "Package:azureml-defaults, training version:1.20.0, current version:1.19.0\n",
      "Package:azureml-interpret, training version:1.20.0, current version:1.19.0\n",
      "Package:azureml-pipeline-core, training version:1.20.0, current version:1.19.0\n",
      "Package:azureml-telemetry, training version:1.20.0, current version:1.19.0\n",
      "Package:azureml-train-automl-client, training version:1.20.0, current version:1.19.0\n",
      "Package:azureml-train-automl-runtime, training version:1.20.0, current version:1.19.0\n",
      "WARNING:root:Please ensure the version of your local conda dependencies match the version on which your model was trained in order to properly retrieve your model.\n"
     ]
    }
   ],
   "source": [
    "best_run, model = run.get_output()"
   ]
  },
  {
   "cell_type": "code",
   "execution_count": 12,
   "metadata": {},
   "outputs": [
    {
     "name": "stdout",
     "output_type": "stream",
     "text": [
      "Run(Experiment: capstone,\n",
      "Id: AutoML_d3f92056-df67-4e62-a896-ed303c936f5e_36,\n",
      "Type: azureml.scriptrun,\n",
      "Status: Completed)\n"
     ]
    }
   ],
   "source": [
    "print(best_run)"
   ]
  },
  {
   "cell_type": "code",
   "execution_count": 13,
   "metadata": {},
   "outputs": [
    {
     "name": "stdout",
     "output_type": "stream",
     "text": [
      "Pipeline(memory=None,\n",
      "         steps=[('datatransformer',\n",
      "                 DataTransformer(enable_dnn=None, enable_feature_sweeping=None,\n",
      "                                 feature_sweeping_config=None,\n",
      "                                 feature_sweeping_timeout=None,\n",
      "                                 featurization_config=None, force_text_dnn=None,\n",
      "                                 is_cross_validation=None,\n",
      "                                 is_onnx_compatible=None, logger=None,\n",
      "                                 observer=None, task=None, working_dir=None)),\n",
      "                ('prefittedsoftvotingclassifier',...\n",
      "                                                                                                    min_samples_split=0.056842105263157895,\n",
      "                                                                                                    min_weight_fraction_leaf=0.0,\n",
      "                                                                                                    n_estimators=100,\n",
      "                                                                                                    n_jobs=1,\n",
      "                                                                                                    oob_score=False,\n",
      "                                                                                                    random_state=None,\n",
      "                                                                                                    verbose=0,\n",
      "                                                                                                    warm_start=False))],\n",
      "                                                                     verbose=False))],\n",
      "                                               flatten_transform=None,\n",
      "                                               weights=[0.1111111111111111,\n",
      "                                                        0.1111111111111111,\n",
      "                                                        0.1111111111111111,\n",
      "                                                        0.1111111111111111,\n",
      "                                                        0.2222222222222222,\n",
      "                                                        0.2222222222222222,\n",
      "                                                        0.1111111111111111]))],\n",
      "         verbose=False)\n"
     ]
    }
   ],
   "source": [
    "print(model)"
   ]
  },
  {
   "cell_type": "code",
   "execution_count": 14,
   "metadata": {},
   "outputs": [
    {
     "data": {
      "text/plain": [
       "{'_aml_system_azureml.automlComponent': 'AutoML',\n",
       " '_aml_system_ComputeTargetStatus': '{\"AllocationState\":\"steady\",\"PreparingNodeCount\":0,\"RunningNodeCount\":0,\"CurrentNodeCount\":4}',\n",
       " 'ensembled_iterations': '[3, 21, 20, 14, 4, 11, 32]',\n",
       " 'ensembled_algorithms': \"['RandomForest', 'LightGBM', 'GradientBoosting', 'ExtremeRandomTrees', 'RandomForest', 'XGBoostClassifier', 'RandomForest']\",\n",
       " 'ensemble_weights': '[0.1111111111111111, 0.1111111111111111, 0.1111111111111111, 0.1111111111111111, 0.2222222222222222, 0.2222222222222222, 0.1111111111111111]',\n",
       " 'best_individual_pipeline_score': '0.866060606060606',\n",
       " 'best_individual_iteration': '3',\n",
       " '_aml_system_automl_is_child_run_end_telemetry_event_logged': 'True'}"
      ]
     },
     "execution_count": 14,
     "metadata": {},
     "output_type": "execute_result"
    }
   ],
   "source": [
    "best_run.get_tags()"
   ]
  },
  {
   "cell_type": "code",
   "execution_count": 15,
   "metadata": {},
   "outputs": [
    {
     "data": {
      "text/plain": [
       "{'accuracy': 0.8838383838383839}"
      ]
     },
     "execution_count": 15,
     "metadata": {},
     "output_type": "execute_result"
    }
   ],
   "source": [
    "best_run.get_metrics(name='accuracy')"
   ]
  },
  {
   "cell_type": "markdown",
   "metadata": {},
   "source": [
    "### Test the model"
   ]
  },
  {
   "cell_type": "code",
   "execution_count": 16,
   "metadata": {},
   "outputs": [],
   "source": [
    "# Split into x and y tests\n",
    "y_test = test['DEATH_EVENT']\n",
    "x_test = test.drop(['DEATH_EVENT'],axis=1)"
   ]
  },
  {
   "cell_type": "code",
   "execution_count": 17,
   "metadata": {},
   "outputs": [
    {
     "data": {
      "text/html": [
       "<div>\n",
       "<style scoped>\n",
       "    .dataframe tbody tr th:only-of-type {\n",
       "        vertical-align: middle;\n",
       "    }\n",
       "\n",
       "    .dataframe tbody tr th {\n",
       "        vertical-align: top;\n",
       "    }\n",
       "\n",
       "    .dataframe thead th {\n",
       "        text-align: right;\n",
       "    }\n",
       "</style>\n",
       "<table border=\"1\" class=\"dataframe\">\n",
       "  <thead>\n",
       "    <tr style=\"text-align: right;\">\n",
       "      <th></th>\n",
       "      <th>0</th>\n",
       "      <th>1</th>\n",
       "    </tr>\n",
       "  </thead>\n",
       "  <tbody>\n",
       "    <tr>\n",
       "      <th>0</th>\n",
       "      <td>43</td>\n",
       "      <td>6</td>\n",
       "    </tr>\n",
       "    <tr>\n",
       "      <th>1</th>\n",
       "      <td>7</td>\n",
       "      <td>19</td>\n",
       "    </tr>\n",
       "  </tbody>\n",
       "</table>\n",
       "</div>"
      ],
      "text/plain": [
       "    0   1\n",
       "0  43   6\n",
       "1   7  19"
      ]
     },
     "execution_count": 17,
     "metadata": {},
     "output_type": "execute_result"
    }
   ],
   "source": [
    "# test the model and create a confusion matrix\n",
    "ypred = model.predict(x_test)\n",
    "cmatrix = confusion_matrix(y_test, ypred)\n",
    "pd.DataFrame(cmatrix)"
   ]
  },
  {
   "cell_type": "markdown",
   "metadata": {},
   "source": [
    "### Register the model"
   ]
  },
  {
   "cell_type": "code",
   "execution_count": 18,
   "metadata": {
    "gather": {
     "logged": 1598431426111
    },
    "jupyter": {
     "outputs_hidden": false,
     "source_hidden": false
    },
    "nteract": {
     "transient": {
      "deleting": false
     }
    }
   },
   "outputs": [],
   "source": [
    "#registering the model\n",
    "properties = {\"model\":\"VotingEnsemble\",\"accuracy\":str(best_run.get_metrics(name='accuracy'))}\n",
    "model = best_run.register_model(model_name ='automl_model',model_path=\"outputs/model.pkl\",properties=properties)\n",
    "\n"
   ]
  },
  {
   "cell_type": "code",
   "execution_count": 19,
   "metadata": {},
   "outputs": [
    {
     "name": "stdout",
     "output_type": "stream",
     "text": [
      "Model(workspace=Workspace.create(name='quick-starts-ws-136002', subscription_id='81cefad3-d2c9-4f77-a466-99a7f541c7bb', resource_group='aml-quickstarts-136002'), name=automl_model, id=automl_model:1, version=1, tags={}, properties={'model': 'VotingEnsemble', 'accuracy': \"{'accuracy': 0.8838383838383839}\"})\n"
     ]
    }
   ],
   "source": [
    "print(model)"
   ]
  },
  {
   "cell_type": "markdown",
   "metadata": {},
   "source": [
    "## Model Deployment"
   ]
  },
  {
   "cell_type": "markdown",
   "metadata": {},
   "source": [
    "### Save the environment"
   ]
  },
  {
   "cell_type": "code",
   "execution_count": 20,
   "metadata": {
    "gather": {
     "logged": 1598431435189
    },
    "jupyter": {
     "outputs_hidden": false,
     "source_hidden": false
    },
    "nteract": {
     "transient": {
      "deleting": false
     }
    }
   },
   "outputs": [
    {
     "data": {
      "text/plain": [
       "dict_keys(['AzureML-VowpalWabbit-8.8.0', 'AzureML-AutoML', 'AzureML-Hyperdrive-ForecastDNN', 'AzureML-PyTorch-1.4-CPU', 'AzureML-PyTorch-1.4-GPU', 'AzureML-AutoML-DNN', 'AzureML-AutoML-DNN-GPU', 'AzureML-Designer-Transform', 'AzureML-Designer', 'AzureML-AutoML-GPU', 'AzureML-Designer-IO', 'AzureML-Dask-CPU', 'AzureML-Designer-R', 'AzureML-Dask-GPU', 'AzureML-Designer-Recommender', 'AzureML-PyTorch-1.5-CPU', 'AzureML-PyTorch-1.5-GPU', 'AzureML-Sidecar', 'AzureML-Designer-CV-Transform', 'AzureML-Designer-Score', 'AzureML-Designer-PyTorch', 'AzureML-Designer-CV', 'AzureML-TensorFlow-2.1-GPU', 'AzureML-TensorFlow-2.1-CPU', 'AzureML-Designer-PyTorch-Train', 'AzureML-AutoML-DNN-Vision-GPU', 'AzureML-Designer-VowpalWabbit', 'AzureML-TensorFlow-2.2-GPU', 'AzureML-TensorFlow-2.2-CPU', 'AzureML-PyTorch-1.6-CPU', 'AzureML-PyTorch-1.6-GPU', 'AzureML-Triton', 'AzureML-TensorFlow-2.3-CPU', 'AzureML-TensorFlow-2.3-GPU', 'AzureML-DeepSpeed-0.3-GPU', 'AzureML-TensorFlow-2.0-CPU', 'AzureML-Chainer-5.1.0-GPU', 'AzureML-TensorFlow-1.12-CPU', 'AzureML-TensorFlow-2.0-GPU', 'AzureML-PyTorch-1.1-CPU', 'AzureML-PyTorch-1.1-GPU', 'AzureML-PyTorch-1.2-CPU', 'AzureML-Minimal', 'AzureML-TensorFlow-1.10-CPU', 'AzureML-PyTorch-1.3-CPU', 'AzureML-PyTorch-1.0-CPU', 'AzureML-Tutorial', 'AzureML-PyTorch-1.2-GPU', 'AzureML-Scikit-learn-0.20.3', 'AzureML-TensorFlow-1.13-CPU', 'AzureML-TensorFlow-1.12-GPU', 'AzureML-PyTorch-1.3-GPU', 'AzureML-PyTorch-1.0-GPU', 'AzureML-Chainer-5.1.0-CPU', 'AzureML-TensorFlow-1.13-GPU', 'AzureML-TensorFlow-1.10-GPU', 'AzureML-PySpark-MmlSpark-0.15', 'AzureML-Designer-NLP'])"
      ]
     },
     "execution_count": 20,
     "metadata": {},
     "output_type": "execute_result"
    }
   ],
   "source": [
    "# get the list of environments\n",
    "Environment.list(workspace=ws).keys()\n"
   ]
  },
  {
   "cell_type": "code",
   "execution_count": 21,
   "metadata": {},
   "outputs": [],
   "source": [
    "# save the environment\n",
    "my_env = Environment.get(workspace=ws, name=\"AzureML-AutoML\")\n",
    "my_env.save_to_directory('env', overwrite=True)\n",
    "    \n"
   ]
  },
  {
   "cell_type": "markdown",
   "metadata": {},
   "source": [
    "### Get scoring script and create inference config"
   ]
  },
  {
   "cell_type": "code",
   "execution_count": 22,
   "metadata": {},
   "outputs": [
    {
     "data": {
      "text/plain": [
       "['accuracy_table',\n",
       " 'automl_driver.py',\n",
       " 'azureml-logs/55_azureml-execution-tvmps_1548657095ae739267170c115e68972cc0d2bafad69f4b12b1a845f8e259fa99_d.txt',\n",
       " 'azureml-logs/65_job_prep-tvmps_1548657095ae739267170c115e68972cc0d2bafad69f4b12b1a845f8e259fa99_d.txt',\n",
       " 'azureml-logs/70_driver_log.txt',\n",
       " 'azureml-logs/75_job_post-tvmps_1548657095ae739267170c115e68972cc0d2bafad69f4b12b1a845f8e259fa99_d.txt',\n",
       " 'azureml-logs/process_info.json',\n",
       " 'azureml-logs/process_status.json',\n",
       " 'confusion_matrix',\n",
       " 'logs/azureml/104_azureml.log',\n",
       " 'logs/azureml/azureml_automl.log',\n",
       " 'logs/azureml/dataprep/python_span_11d7f95f-e4b1-47a9-ba81-f714c1453e8e.jsonl',\n",
       " 'logs/azureml/dataprep/python_span_a4d74cc0-d601-4c66-b2b3-01662bcaa1d6.jsonl',\n",
       " 'logs/azureml/job_prep_azureml.log',\n",
       " 'logs/azureml/job_release_azureml.log',\n",
       " 'outputs/conda_env_v_1_0_0.yml',\n",
       " 'outputs/env_dependencies.json',\n",
       " 'outputs/internal_cross_validated_models.pkl',\n",
       " 'outputs/model.pkl',\n",
       " 'outputs/pipeline_graph.json',\n",
       " 'outputs/scoring_file_v_1_0_0.py']"
      ]
     },
     "execution_count": 22,
     "metadata": {},
     "output_type": "execute_result"
    }
   ],
   "source": [
    "best_run.get_file_names()"
   ]
  },
  {
   "cell_type": "code",
   "execution_count": 23,
   "metadata": {},
   "outputs": [],
   "source": [
    "best_run.download_file('outputs/scoring_file_v_1_0_0.py','scoreautoml.py')"
   ]
  },
  {
   "cell_type": "code",
   "execution_count": 24,
   "metadata": {},
   "outputs": [],
   "source": [
    "# create inference_config\n",
    "from azureml.core.model import InferenceConfig\n",
    "inference_config = InferenceConfig(entry_script=\"scoreautoml.py\", environment = my_env)"
   ]
  },
  {
   "cell_type": "markdown",
   "metadata": {},
   "source": [
    "### Deploy locally and test for testing purposes"
   ]
  },
  {
   "cell_type": "code",
   "execution_count": 25,
   "metadata": {},
   "outputs": [
    {
     "name": "stdout",
     "output_type": "stream",
     "text": [
      "Downloading model automl_model:1 to /tmp/azureml_zcl5pp7l/automl_model/1\n",
      "Generating Docker build context.\n",
      "Package creation Succeeded\n",
      "Logging into Docker registry viennaglobal.azurecr.io\n",
      "Logging into Docker registry viennaglobal.azurecr.io\n",
      "Building Docker image from Dockerfile...\n",
      "Step 1/5 : FROM viennaglobal.azurecr.io/azureml/azureml_1b9697d50bbbb35eb098c299c7ed3dd0\n",
      " ---> e21868753f04\n",
      "Step 2/5 : COPY azureml-app /var/azureml-app\n",
      " ---> 20897a9a560a\n",
      "Step 3/5 : RUN mkdir -p '/var/azureml-app' && echo eyJhY2NvdW50Q29udGV4dCI6eyJzdWJzY3JpcHRpb25JZCI6IjgxY2VmYWQzLWQyYzktNGY3Ny1hNDY2LTk5YTdmNTQxYzdiYiIsInJlc291cmNlR3JvdXBOYW1lIjoiYW1sLXF1aWNrc3RhcnRzLTEzNjAwMiIsImFjY291bnROYW1lIjoicXVpY2stc3RhcnRzLXdzLTEzNjAwMiIsIndvcmtzcGFjZUlkIjoiODIxZjBlZmItMGM2MC00MGZlLTg4MDYtM2VkMDRmNDc1ZjdjIn0sIm1vZGVscyI6e30sIm1vZGVsc0luZm8iOnt9fQ== | base64 --decode > /var/azureml-app/model_config_map.json\n",
      " ---> Running in a13e316cf491\n",
      " ---> 8ff54cc06339\n",
      "Step 4/5 : RUN mv '/var/azureml-app/tmpsa2y030t.py' /var/azureml-app/main.py\n",
      " ---> Running in 5484044bf553\n",
      " ---> fba59cb26157\n",
      "Step 5/5 : CMD [\"runsvdir\",\"/var/runit\"]\n",
      " ---> Running in 5228c375ea1b\n",
      " ---> 86510848f01d\n",
      "Successfully built 86510848f01d\n",
      "Successfully tagged test-service:latest\n",
      "Starting Docker container...\n",
      "Docker container running.\n"
     ]
    }
   ],
   "source": [
    "deployment_config = LocalWebservice.deploy_configuration(port=9000)\n",
    "service = Model.deploy(workspace=ws, name=\"test-service\",\n",
    "                       models=[model],\n",
    "                       inference_config=inference_config, deployment_config=deployment_config)"
   ]
  },
  {
   "cell_type": "code",
   "execution_count": 26,
   "metadata": {},
   "outputs": [],
   "source": [
    "#save the first two rows in a variable called tosend to use to test deployment and drop the output value\n",
    "tosend = test[:2].values.tolist()\n",
    "tosend = [tosend[0][:-1],tosend[1][:-1]]"
   ]
  },
  {
   "cell_type": "code",
   "execution_count": 27,
   "metadata": {},
   "outputs": [
    {
     "name": "stdout",
     "output_type": "stream",
     "text": [
      "Checking container health...\n",
      "Local webservice is running at http://localhost:9000\n",
      "{\"result\": [0, 0]}\n"
     ]
    }
   ],
   "source": [
    "data = json.dumps({\"data\":tosend})\n",
    "data = bytes(data,encoding=\"utf8\")\n",
    "print(service.run(input_data=data))"
   ]
  },
  {
   "cell_type": "code",
   "execution_count": 28,
   "metadata": {},
   "outputs": [
    {
     "name": "stdout",
     "output_type": "stream",
     "text": [
      "Container has been successfully cleaned up.\n"
     ]
    }
   ],
   "source": [
    "service.delete()"
   ]
  },
  {
   "cell_type": "markdown",
   "metadata": {},
   "source": [
    "### Deploy as a webservice"
   ]
  },
  {
   "cell_type": "code",
   "execution_count": 29,
   "metadata": {},
   "outputs": [],
   "source": [
    "#set deployment_config for webservice deployment\n",
    "deployment_config = AciWebservice.deploy_configuration(cpu_cores=1, memory_gb = 1)"
   ]
  },
  {
   "cell_type": "code",
   "execution_count": 30,
   "metadata": {
    "scrolled": false
   },
   "outputs": [
    {
     "name": "stdout",
     "output_type": "stream",
     "text": [
      "Tips: You can try get_logs(): https://aka.ms/debugimage#dockerlog or local deployment: https://aka.ms/debugimage#debug-locally to debug if deployment takes longer than 10 minutes.\n",
      "Running...................................................\n",
      "Succeeded\n",
      "ACI service creation operation finished, operation \"Succeeded\"\n"
     ]
    }
   ],
   "source": [
    "#deploy the model\n",
    "service=Model.deploy(workspace=ws,\n",
    "                    name=\"mywebservice\",\n",
    "                    models=[model],\n",
    "                    inference_config=inference_config,\n",
    "                    deployment_config=deployment_config)\n",
    "service.wait_for_deployment(show_output=True)"
   ]
  },
  {
   "cell_type": "code",
   "execution_count": 31,
   "metadata": {},
   "outputs": [
    {
     "name": "stdout",
     "output_type": "stream",
     "text": [
      "2021-01-25T15:49:21,698127134+00:00 - nginx/run \n",
      "2021-01-25T15:49:21,699655457+00:00 - rsyslog/run \n",
      "/usr/sbin/nginx: /azureml-envs/azureml_265db83b0c6014ce472c5de2f0b97e04/lib/libcrypto.so.1.0.0: no version information available (required by /usr/sbin/nginx)\n",
      "/usr/sbin/nginx: /azureml-envs/azureml_265db83b0c6014ce472c5de2f0b97e04/lib/libcrypto.so.1.0.0: no version information available (required by /usr/sbin/nginx)\n",
      "/usr/sbin/nginx: /azureml-envs/azureml_265db83b0c6014ce472c5de2f0b97e04/lib/libssl.so.1.0.0: no version information available (required by /usr/sbin/nginx)\n",
      "/usr/sbin/nginx: /azureml-envs/azureml_265db83b0c6014ce472c5de2f0b97e04/lib/libssl.so.1.0.0: no version information available (required by /usr/sbin/nginx)\n",
      "/usr/sbin/nginx: /azureml-envs/azureml_265db83b0c6014ce472c5de2f0b97e04/lib/libssl.so.1.0.0: no version information available (required by /usr/sbin/nginx)\n",
      "2021-01-25T15:49:21,701328483+00:00 - gunicorn/run \n",
      "2021-01-25T15:49:21,701900691+00:00 - iot-server/run \n",
      "rsyslogd: /azureml-envs/azureml_265db83b0c6014ce472c5de2f0b97e04/lib/libuuid.so.1: no version information available (required by rsyslogd)\n",
      "EdgeHubConnectionString and IOTEDGE_IOTHUBHOSTNAME are not set. Exiting...\n",
      "2021-01-25T15:49:21,849040623+00:00 - iot-server/finish 1 0\n",
      "2021-01-25T15:49:21,850550946+00:00 - Exit code 1 is normal. Not restarting iot-server.\n",
      "Starting gunicorn 19.9.0\n",
      "Listening at: http://127.0.0.1:31311 (15)\n",
      "Using worker: sync\n",
      "worker timeout is set to 300\n",
      "Booting worker with pid: 41\n",
      "SPARK_HOME not set. Skipping PySpark Initialization.\n",
      "Generating new fontManager, this may take some time...\n",
      "Initializing logger\n",
      "2021-01-25 15:49:23,382 | root | INFO | Starting up app insights client\n",
      "2021-01-25 15:49:23,383 | root | INFO | Starting up request id generator\n",
      "2021-01-25 15:49:23,383 | root | INFO | Starting up app insight hooks\n",
      "2021-01-25 15:49:23,383 | root | INFO | Invoking user's init function\n",
      "2021-01-25 15:49:26,462 | azureml.core | WARNING | Failure while loading azureml_run_type_providers. Failed to load entrypoint automl = azureml.train.automl.run:AutoMLRun._from_run_dto with exception cannot import name 'RunType'.\n",
      "Failure while loading azureml_run_type_providers. Failed to load entrypoint automl = azureml.train.automl.run:AutoMLRun._from_run_dto with exception cannot import name 'RunType'.\n",
      "2021-01-25 15:49:26,735 | root | INFO | Users's init has completed successfully\n",
      "2021-01-25 15:49:26,738 | root | INFO | Skipping middleware: dbg_model_info as it's not enabled.\n",
      "2021-01-25 15:49:26,738 | root | INFO | Skipping middleware: dbg_resource_usage as it's not enabled.\n",
      "2021-01-25 15:49:26,739 | root | INFO | Scoring timeout is found from os.environ: 60000 ms\n",
      "2021-01-25 15:49:28,880 | root | INFO | 200\n",
      "127.0.0.1 - - [25/Jan/2021:15:49:28 +0000] \"GET /swagger.json HTTP/1.0\" 200 2836 \"-\" \"Go-http-client/1.1\"\n",
      "2021-01-25 15:49:31,212 | root | INFO | 200\n",
      "127.0.0.1 - - [25/Jan/2021:15:49:31 +0000] \"GET /swagger.json HTTP/1.0\" 200 2836 \"-\" \"Go-http-client/1.1\"\n",
      "\n"
     ]
    }
   ],
   "source": [
    "print(service.get_logs())"
   ]
  },
  {
   "cell_type": "markdown",
   "metadata": {
    "collapsed": true,
    "gather": {
     "logged": 1598431657736
    },
    "jupyter": {
     "outputs_hidden": false,
     "source_hidden": false
    },
    "nteract": {
     "transient": {
      "deleting": false
     }
    }
   },
   "source": [
    "### Send a request to the web service"
   ]
  },
  {
   "cell_type": "code",
   "execution_count": 32,
   "metadata": {
    "gather": {
     "logged": 1598432707604
    },
    "jupyter": {
     "outputs_hidden": false,
     "source_hidden": false
    },
    "nteract": {
     "transient": {
      "deleting": false
     }
    }
   },
   "outputs": [],
   "source": [
    "url = service.scoring_uri"
   ]
  },
  {
   "cell_type": "code",
   "execution_count": 33,
   "metadata": {},
   "outputs": [
    {
     "data": {
      "text/plain": [
       "'http://807a442d-541f-44e9-a0d8-7c7b2db5a111.southcentralus.azurecontainer.io/score'"
      ]
     },
     "execution_count": 33,
     "metadata": {},
     "output_type": "execute_result"
    }
   ],
   "source": [
    "url"
   ]
  },
  {
   "cell_type": "code",
   "execution_count": 34,
   "metadata": {},
   "outputs": [
    {
     "data": {
      "text/html": [
       "<div>\n",
       "<style scoped>\n",
       "    .dataframe tbody tr th:only-of-type {\n",
       "        vertical-align: middle;\n",
       "    }\n",
       "\n",
       "    .dataframe tbody tr th {\n",
       "        vertical-align: top;\n",
       "    }\n",
       "\n",
       "    .dataframe thead th {\n",
       "        text-align: right;\n",
       "    }\n",
       "</style>\n",
       "<table border=\"1\" class=\"dataframe\">\n",
       "  <thead>\n",
       "    <tr style=\"text-align: right;\">\n",
       "      <th></th>\n",
       "      <th>age</th>\n",
       "      <th>anaemia</th>\n",
       "      <th>creatinine_phosphokinase</th>\n",
       "      <th>diabetes</th>\n",
       "      <th>ejection_fraction</th>\n",
       "      <th>high_blood_pressure</th>\n",
       "      <th>platelets</th>\n",
       "      <th>serum_creatinine</th>\n",
       "      <th>serum_sodium</th>\n",
       "      <th>sex</th>\n",
       "      <th>smoking</th>\n",
       "      <th>time</th>\n",
       "      <th>DEATH_EVENT</th>\n",
       "    </tr>\n",
       "  </thead>\n",
       "  <tbody>\n",
       "    <tr>\n",
       "      <th>224</th>\n",
       "      <td>58.00</td>\n",
       "      <td>0</td>\n",
       "      <td>582</td>\n",
       "      <td>1</td>\n",
       "      <td>25</td>\n",
       "      <td>0</td>\n",
       "      <td>504000.00</td>\n",
       "      <td>1.00</td>\n",
       "      <td>138</td>\n",
       "      <td>1</td>\n",
       "      <td>0</td>\n",
       "      <td>205</td>\n",
       "      <td>0</td>\n",
       "    </tr>\n",
       "    <tr>\n",
       "      <th>100</th>\n",
       "      <td>65.00</td>\n",
       "      <td>1</td>\n",
       "      <td>305</td>\n",
       "      <td>0</td>\n",
       "      <td>25</td>\n",
       "      <td>0</td>\n",
       "      <td>298000.00</td>\n",
       "      <td>1.10</td>\n",
       "      <td>141</td>\n",
       "      <td>1</td>\n",
       "      <td>0</td>\n",
       "      <td>87</td>\n",
       "      <td>0</td>\n",
       "    </tr>\n",
       "    <tr>\n",
       "      <th>158</th>\n",
       "      <td>85.00</td>\n",
       "      <td>1</td>\n",
       "      <td>910</td>\n",
       "      <td>0</td>\n",
       "      <td>50</td>\n",
       "      <td>0</td>\n",
       "      <td>235000.00</td>\n",
       "      <td>1.30</td>\n",
       "      <td>134</td>\n",
       "      <td>1</td>\n",
       "      <td>0</td>\n",
       "      <td>121</td>\n",
       "      <td>0</td>\n",
       "    </tr>\n",
       "    <tr>\n",
       "      <th>124</th>\n",
       "      <td>60.00</td>\n",
       "      <td>0</td>\n",
       "      <td>582</td>\n",
       "      <td>0</td>\n",
       "      <td>40</td>\n",
       "      <td>0</td>\n",
       "      <td>217000.00</td>\n",
       "      <td>3.70</td>\n",
       "      <td>134</td>\n",
       "      <td>1</td>\n",
       "      <td>0</td>\n",
       "      <td>96</td>\n",
       "      <td>1</td>\n",
       "    </tr>\n",
       "    <tr>\n",
       "      <th>147</th>\n",
       "      <td>64.00</td>\n",
       "      <td>0</td>\n",
       "      <td>1610</td>\n",
       "      <td>0</td>\n",
       "      <td>60</td>\n",
       "      <td>0</td>\n",
       "      <td>242000.00</td>\n",
       "      <td>1.00</td>\n",
       "      <td>137</td>\n",
       "      <td>1</td>\n",
       "      <td>0</td>\n",
       "      <td>113</td>\n",
       "      <td>0</td>\n",
       "    </tr>\n",
       "  </tbody>\n",
       "</table>\n",
       "</div>"
      ],
      "text/plain": [
       "      age  anaemia  creatinine_phosphokinase  diabetes  ejection_fraction  \\\n",
       "224 58.00        0                       582         1                 25   \n",
       "100 65.00        1                       305         0                 25   \n",
       "158 85.00        1                       910         0                 50   \n",
       "124 60.00        0                       582         0                 40   \n",
       "147 64.00        0                      1610         0                 60   \n",
       "\n",
       "     high_blood_pressure  platelets  serum_creatinine  serum_sodium  sex  \\\n",
       "224                    0  504000.00              1.00           138    1   \n",
       "100                    0  298000.00              1.10           141    1   \n",
       "158                    0  235000.00              1.30           134    1   \n",
       "124                    0  217000.00              3.70           134    1   \n",
       "147                    0  242000.00              1.00           137    1   \n",
       "\n",
       "     smoking  time  DEATH_EVENT  \n",
       "224        0   205            0  \n",
       "100        0    87            0  \n",
       "158        0   121            0  \n",
       "124        0    96            1  \n",
       "147        0   113            0  "
      ]
     },
     "execution_count": 34,
     "metadata": {},
     "output_type": "execute_result"
    }
   ],
   "source": [
    "test.head()"
   ]
  },
  {
   "cell_type": "code",
   "execution_count": 35,
   "metadata": {},
   "outputs": [
    {
     "data": {
      "text/plain": [
       "[[58.0, 0.0, 582.0, 1.0, 25.0, 0.0, 504000.0, 1.0, 138.0, 1.0, 0.0, 205.0],\n",
       " [65.0, 1.0, 305.0, 0.0, 25.0, 0.0, 298000.0, 1.1, 141.0, 1.0, 0.0, 87.0]]"
      ]
     },
     "execution_count": 35,
     "metadata": {},
     "output_type": "execute_result"
    }
   ],
   "source": [
    "tosend"
   ]
  },
  {
   "cell_type": "code",
   "execution_count": 36,
   "metadata": {},
   "outputs": [
    {
     "name": "stdout",
     "output_type": "stream",
     "text": [
      "\"{\\\"result\\\": [0, 0]}\"\n"
     ]
    }
   ],
   "source": [
    "#data = json.dumps({\"data\":tosend})\n",
    "headers = {'Content-Type':'application/json'}\n",
    "response = requests.post(url,data,headers=headers)\n",
    "print(response.text)\n"
   ]
  },
  {
   "cell_type": "markdown",
   "metadata": {},
   "source": [
    "### Print the logs of the webservice"
   ]
  },
  {
   "cell_type": "code",
   "execution_count": 37,
   "metadata": {},
   "outputs": [
    {
     "name": "stdout",
     "output_type": "stream",
     "text": [
      "2021-01-25T15:49:21,698127134+00:00 - nginx/run \n",
      "2021-01-25T15:49:21,699655457+00:00 - rsyslog/run \n",
      "/usr/sbin/nginx: /azureml-envs/azureml_265db83b0c6014ce472c5de2f0b97e04/lib/libcrypto.so.1.0.0: no version information available (required by /usr/sbin/nginx)\n",
      "/usr/sbin/nginx: /azureml-envs/azureml_265db83b0c6014ce472c5de2f0b97e04/lib/libcrypto.so.1.0.0: no version information available (required by /usr/sbin/nginx)\n",
      "/usr/sbin/nginx: /azureml-envs/azureml_265db83b0c6014ce472c5de2f0b97e04/lib/libssl.so.1.0.0: no version information available (required by /usr/sbin/nginx)\n",
      "/usr/sbin/nginx: /azureml-envs/azureml_265db83b0c6014ce472c5de2f0b97e04/lib/libssl.so.1.0.0: no version information available (required by /usr/sbin/nginx)\n",
      "/usr/sbin/nginx: /azureml-envs/azureml_265db83b0c6014ce472c5de2f0b97e04/lib/libssl.so.1.0.0: no version information available (required by /usr/sbin/nginx)\n",
      "2021-01-25T15:49:21,701328483+00:00 - gunicorn/run \n",
      "2021-01-25T15:49:21,701900691+00:00 - iot-server/run \n",
      "rsyslogd: /azureml-envs/azureml_265db83b0c6014ce472c5de2f0b97e04/lib/libuuid.so.1: no version information available (required by rsyslogd)\n",
      "EdgeHubConnectionString and IOTEDGE_IOTHUBHOSTNAME are not set. Exiting...\n",
      "2021-01-25T15:49:21,849040623+00:00 - iot-server/finish 1 0\n",
      "2021-01-25T15:49:21,850550946+00:00 - Exit code 1 is normal. Not restarting iot-server.\n",
      "Starting gunicorn 19.9.0\n",
      "Listening at: http://127.0.0.1:31311 (15)\n",
      "Using worker: sync\n",
      "worker timeout is set to 300\n",
      "Booting worker with pid: 41\n",
      "SPARK_HOME not set. Skipping PySpark Initialization.\n",
      "Generating new fontManager, this may take some time...\n",
      "Initializing logger\n",
      "2021-01-25 15:49:23,382 | root | INFO | Starting up app insights client\n",
      "2021-01-25 15:49:23,383 | root | INFO | Starting up request id generator\n",
      "2021-01-25 15:49:23,383 | root | INFO | Starting up app insight hooks\n",
      "2021-01-25 15:49:23,383 | root | INFO | Invoking user's init function\n",
      "2021-01-25 15:49:26,462 | azureml.core | WARNING | Failure while loading azureml_run_type_providers. Failed to load entrypoint automl = azureml.train.automl.run:AutoMLRun._from_run_dto with exception cannot import name 'RunType'.\n",
      "Failure while loading azureml_run_type_providers. Failed to load entrypoint automl = azureml.train.automl.run:AutoMLRun._from_run_dto with exception cannot import name 'RunType'.\n",
      "2021-01-25 15:49:26,735 | root | INFO | Users's init has completed successfully\n",
      "2021-01-25 15:49:26,738 | root | INFO | Skipping middleware: dbg_model_info as it's not enabled.\n",
      "2021-01-25 15:49:26,738 | root | INFO | Skipping middleware: dbg_resource_usage as it's not enabled.\n",
      "2021-01-25 15:49:26,739 | root | INFO | Scoring timeout is found from os.environ: 60000 ms\n",
      "2021-01-25 15:49:28,880 | root | INFO | 200\n",
      "127.0.0.1 - - [25/Jan/2021:15:49:28 +0000] \"GET /swagger.json HTTP/1.0\" 200 2836 \"-\" \"Go-http-client/1.1\"\n",
      "2021-01-25 15:49:31,212 | root | INFO | 200\n",
      "127.0.0.1 - - [25/Jan/2021:15:49:31 +0000] \"GET /swagger.json HTTP/1.0\" 200 2836 \"-\" \"Go-http-client/1.1\"\n",
      "2021-01-25 15:49:52,128 | root | INFO | 200\n",
      "127.0.0.1 - - [25/Jan/2021:15:49:52 +0000] \"GET /swagger.json HTTP/1.0\" 200 2836 \"-\" \"Go-http-client/1.1\"\n",
      "2021-01-25 15:49:52,532 | root | INFO | 200\n",
      "127.0.0.1 - - [25/Jan/2021:15:49:52 +0000] \"GET /swagger.json HTTP/1.0\" 200 2836 \"-\" \"Go-http-client/1.1\"\n",
      "2021-01-25 15:50:54,996 | root | INFO | 200\n",
      "127.0.0.1 - - [25/Jan/2021:15:50:54 +0000] \"GET /swagger.json HTTP/1.0\" 200 2836 \"-\" \"Go-http-client/1.1\"\n",
      "2021-01-25 15:50:55,697 | root | INFO | 200\n",
      "127.0.0.1 - - [25/Jan/2021:15:50:55 +0000] \"GET /swagger.json HTTP/1.0\" 200 2836 \"-\" \"Go-http-client/1.1\"\n",
      "2021-01-25 15:51:00,672 | root | INFO | 200\n",
      "127.0.0.1 - - [25/Jan/2021:15:51:00 +0000] \"GET /swagger.json HTTP/1.0\" 200 2836 \"-\" \"Mozilla/5.0 (Windows NT 10.0; Win64; x64) AppleWebKit/537.36 (KHTML, like Gecko) Chrome/86.0.4240.75 Safari/537.36\"\n",
      "127.0.0.1 - - [25/Jan/2021:15:51:00 +0000] \"GET /favicon.ico HTTP/1.0\" 404 232 \"http://807a442d-541f-44e9-a0d8-7c7b2db5a111.southcentralus.azurecontainer.io/swagger.json\" \"Mozilla/5.0 (Windows NT 10.0; Win64; x64) AppleWebKit/537.36 (KHTML, like Gecko) Chrome/86.0.4240.75 Safari/537.36\"\n",
      "2021-01-25 15:58:08,173 | root | INFO | 200\n",
      "127.0.0.1 - - [25/Jan/2021:15:58:08 +0000] \"GET /swagger.json HTTP/1.0\" 200 2836 \"-\" \"Go-http-client/1.1\"\n",
      "2021-01-25 15:58:08,468 | root | INFO | 200\n",
      "127.0.0.1 - - [25/Jan/2021:15:58:08 +0000] \"GET /swagger.json HTTP/1.0\" 200 2836 \"-\" \"Go-http-client/1.1\"\n",
      "2021-01-25 15:59:19,251 | root | INFO | Validation Request Content-Type\n",
      "2021-01-25 15:59:19,252 | root | INFO | Scoring Timer is set to 60.0 seconds\n",
      "2021-01-25 15:59:19,337 | root | INFO | 200\n",
      "127.0.0.1 - - [25/Jan/2021:15:59:19 +0000] \"POST /score HTTP/1.0\" 200 22 \"-\" \"python-requests/2.25.0\"\n",
      "\n"
     ]
    }
   ],
   "source": [
    "print(service.get_logs())"
   ]
  },
  {
   "cell_type": "markdown",
   "metadata": {
    "collapsed": true,
    "gather": {
     "logged": 1598432765711
    },
    "jupyter": {
     "outputs_hidden": false,
     "source_hidden": false
    },
    "nteract": {
     "transient": {
      "deleting": false
     }
    }
   },
   "source": [
    "### Remove the webservice, models, and shut down the compute cluster"
   ]
  },
  {
   "cell_type": "code",
   "execution_count": 38,
   "metadata": {
    "jupyter": {
     "outputs_hidden": false,
     "source_hidden": false
    },
    "nteract": {
     "transient": {
      "deleting": false
     }
    }
   },
   "outputs": [],
   "source": [
    "service.delete()"
   ]
  },
  {
   "cell_type": "code",
   "execution_count": 39,
   "metadata": {},
   "outputs": [],
   "source": [
    "compute_target.delete()\n"
   ]
  },
  {
   "cell_type": "code",
   "execution_count": null,
   "metadata": {},
   "outputs": [],
   "source": []
  }
 ],
 "metadata": {
  "kernel_info": {
   "name": "python3-azureml"
  },
  "kernelspec": {
   "display_name": "Python 3",
   "language": "python",
   "name": "python3"
  },
  "language_info": {
   "codemirror_mode": {
    "name": "ipython",
    "version": 3
   },
   "file_extension": ".py",
   "mimetype": "text/x-python",
   "name": "python",
   "nbconvert_exporter": "python",
   "pygments_lexer": "ipython3",
   "version": "3.6.9"
  },
  "nteract": {
   "version": "nteract-front-end@1.0.0"
  }
 },
 "nbformat": 4,
 "nbformat_minor": 2
}
